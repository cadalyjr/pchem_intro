{
 "cells": [
  {
   "cell_type": "code",
   "execution_count": 1,
   "id": "6d4fb18d",
   "metadata": {},
   "outputs": [],
   "source": [
    "import numpy as np"
   ]
  },
  {
   "cell_type": "code",
   "execution_count": 3,
   "id": "d58054a8",
   "metadata": {},
   "outputs": [],
   "source": [
    "def mf_wtp(mf, m1, m2):\n",
    "    \"\"\"\n",
    "    calculate the weight percentage of component 1 in a mixture\n",
    "        \n",
    "    Parameters\n",
    "    ----------\n",
    "    mf : float \n",
    "        mol fraction\n",
    "    m1 : float\n",
    "        molar mass of first component. \n",
    "        this component will be in the numerator of \n",
    "        the mol fraction and wt % calculations\n",
    "    m2 : float\n",
    "        molar mass of the second component.\n",
    "        \n",
    "    Returns\n",
    "    -------\n",
    "    float \n",
    "        weight % of the first component\n",
    "    \"\"\"\n",
    "    \n",
    "    return 100.0*mf*m1/(mf*m1+(1.0-mf)*m2)"
   ]
  },
  {
   "cell_type": "code",
   "execution_count": 10,
   "id": "0201deb5",
   "metadata": {},
   "outputs": [
    {
     "name": "stdout",
     "output_type": "stream",
     "text": [
      "[  0.           8.91089109  20.68965517  36.98630137  61.01694915\n",
      " 100.        ]\n"
     ]
    }
   ],
   "source": [
    "mf_w_eth_sln = np.arange(0, 1.1, 0.2)\n",
    "print(mf_wtp(mf_w_eth_sln, 18, 46))"
   ]
  },
  {
   "cell_type": "code",
   "execution_count": 11,
   "id": "fe97f271",
   "metadata": {},
   "outputs": [
    {
     "name": "stdout",
     "output_type": "stream",
     "text": [
      "[  0.           5.45454545  13.33333333  25.71428571  48.\n",
      " 100.        ]\n"
     ]
    }
   ],
   "source": [
    "mf_w_dmso_sln = np.arange(0, 1.1, 0.2)\n",
    "print(mf_wtp(mf_w_dmso_sln, 18, 78))"
   ]
  },
  {
   "cell_type": "code",
   "execution_count": null,
   "id": "9764e0b5",
   "metadata": {},
   "outputs": [],
   "source": []
  }
 ],
 "metadata": {
  "kernelspec": {
   "display_name": "Python 3 (ipykernel)",
   "language": "python",
   "name": "python3"
  },
  "language_info": {
   "codemirror_mode": {
    "name": "ipython",
    "version": 3
   },
   "file_extension": ".py",
   "mimetype": "text/x-python",
   "name": "python",
   "nbconvert_exporter": "python",
   "pygments_lexer": "ipython3",
   "version": "3.9.7"
  }
 },
 "nbformat": 4,
 "nbformat_minor": 5
}
