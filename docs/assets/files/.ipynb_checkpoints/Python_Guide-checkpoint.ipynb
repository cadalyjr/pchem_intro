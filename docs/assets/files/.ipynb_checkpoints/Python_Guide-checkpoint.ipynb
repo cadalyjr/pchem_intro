{
 "cells": [
  {
   "cell_type": "markdown",
   "id": "e15e2a40",
   "metadata": {},
   "source": [
    "# Basic Syntax"
   ]
  },
  {
   "cell_type": "markdown",
   "id": "f5e8ed43",
   "metadata": {},
   "source": [
    "Cells containing expressions will evaluate when the cell is run. \n",
    "To evaluate the following cell, click on it and press shift and enter at the same time.\n",
    "Try to predict what the expression is equal to, \n",
    "which will also be the output of the cell."
   ]
  },
  {
   "cell_type": "code",
   "execution_count": null,
   "id": "b499df5d",
   "metadata": {},
   "outputs": [],
   "source": [
    "2 + 2"
   ]
  },
  {
   "cell_type": "markdown",
   "id": "c057a6bd",
   "metadata": {},
   "source": [
    "Variables allow us to store data temporarily. \n",
    "This data can take many forms, but one of the simplest forms is a number. \n",
    "See how we can set a variable `x` equal to one in the following cell:"
   ]
  },
  {
   "cell_type": "code",
   "execution_count": null,
   "id": "8ef64321",
   "metadata": {},
   "outputs": [],
   "source": [
    "x = 1"
   ]
  },
  {
   "cell_type": "markdown",
   "id": "bf142b68",
   "metadata": {},
   "source": [
    "Now that we have defined our variable, we can use it elsewhere in our code.\n",
    "The next cell contains an expression using `x`. \n",
    "By default in jupyter noteboks, \n",
    "a cell with a single evaluation or ending with a \n",
    "variable will automatically print the result of the \n",
    "evaluation or the value stored in the variable.\n",
    "Try to predict the output of the following cell."
   ]
  },
  {
   "cell_type": "code",
   "execution_count": null,
   "id": "1c3328d4",
   "metadata": {},
   "outputs": [],
   "source": [
    "x + 4"
   ]
  },
  {
   "cell_type": "markdown",
   "id": "daaeadb4",
   "metadata": {},
   "source": [
    "We can also make sure something prints using the function `print()`"
   ]
  },
  {
   "cell_type": "code",
   "execution_count": null,
   "id": "9d1e4c0d",
   "metadata": {},
   "outputs": [],
   "source": [
    "print(x + 4)"
   ]
  },
  {
   "cell_type": "markdown",
   "id": "17f9b364",
   "metadata": {},
   "source": [
    "We can change variables after they are first defined. \n",
    "The next cell changes the value of `x`, \n",
    "and then uses it in another expression. "
   ]
  },
  {
   "cell_type": "markdown",
   "id": "4e1e4fd7",
   "metadata": {},
   "source": [
    "## Problem 1\n",
    "\n",
    "Try to predict the output of the following cell. Then copy the code to the next empty cell and change the code so that it outputs:\n",
    "\n",
    "```\n",
    "8\n",
    "4\n",
    "```"
   ]
  },
  {
   "cell_type": "code",
   "execution_count": null,
   "id": "0c5e0a89",
   "metadata": {},
   "outputs": [],
   "source": [
    "x = 3\n",
    "print(x)\n",
    "print(x*5)"
   ]
  },
  {
   "cell_type": "code",
   "execution_count": null,
   "id": "00db388e",
   "metadata": {},
   "outputs": [],
   "source": []
  },
  {
   "cell_type": "markdown",
   "id": "b0285333",
   "metadata": {},
   "source": [
    "We can also define new variables using previous variables. "
   ]
  },
  {
   "cell_type": "markdown",
   "id": "1ea12efb",
   "metadata": {},
   "source": [
    "## Problem 2\n",
    "\n",
    "Try to predict the output of the following cell. Then copy the code to the next empty cell and change the code so that it outputs:\n",
    "\n",
    "```\n",
    "50\n",
    "3\n",
    "```"
   ]
  },
  {
   "cell_type": "code",
   "execution_count": null,
   "id": "09cc4d0c",
   "metadata": {},
   "outputs": [],
   "source": [
    "y = x + 2\n",
    "print(y)\n",
    "print(y + x)"
   ]
  },
  {
   "cell_type": "code",
   "execution_count": null,
   "id": "b0cd15c2",
   "metadata": {},
   "outputs": [],
   "source": []
  },
  {
   "cell_type": "markdown",
   "id": "298e2a8d",
   "metadata": {},
   "source": [
    "Notice that \"x\" remembered its value (3) from the previous evaluation. \n",
    "\n",
    "We can also store other kinds of data in variables. \n",
    "For example we can store letters in a variable, \n",
    "and when we do so this kind of variable is called a string or `str` in python. \n",
    "The next cell defines a string variable.\n",
    "I use single quotes `'` to get python to recognize my string, \n",
    "but I could have used double quotes `\"` for the same result."
   ]
  },
  {
   "cell_type": "code",
   "execution_count": null,
   "id": "8147056e",
   "metadata": {},
   "outputs": [],
   "source": [
    "authorName = 'RowanAndLogan'\n",
    "print(authorName)"
   ]
  },
  {
   "cell_type": "markdown",
   "id": "c2d870b8",
   "metadata": {},
   "source": [
    "Another important kind of data that can be stored in variables are lists. \n",
    "The next cell defines a list of four numbers. \n",
    "Notice the use of brackets `[ ]`."
   ]
  },
  {
   "cell_type": "code",
   "execution_count": null,
   "id": "45895ad8",
   "metadata": {},
   "outputs": [],
   "source": [
    "numberList = [4, 0, 2.5, 10]\n",
    "print(numberList)"
   ]
  },
  {
   "cell_type": "markdown",
   "id": "0835db09",
   "metadata": {},
   "source": [
    "There is also a very useful python package called \"numpy\"\n",
    "which can turn lists into \"numpy arrays\". It turns out \n",
    "that numpy arrays can be more easily used for science and math tasks\n",
    "than the basic lists, so we will use them for the rest of this tutorial.\n",
    "\n",
    "I start by `import`ing the package numpy and immediately renaming it to \n",
    "`np`. I then use this new name to ask for numpy's `array()` function to change \n",
    "`numberList` into `numberArray`."
   ]
  },
  {
   "cell_type": "code",
   "execution_count": null,
   "id": "b1156535",
   "metadata": {},
   "outputs": [],
   "source": [
    "import numpy as np\n",
    "numberArray = np.array(numberList)\n",
    "print(numberArray)"
   ]
  },
  {
   "cell_type": "markdown",
   "id": "2d5190b6",
   "metadata": {},
   "source": [
    "I can access specific items in my array using \"slicing\". \n",
    "For instance, if I ask for the 0th item in numberArray, \n",
    "python returns the 4. \n",
    "(please note that python, unlike Mathematica, indexes all of its arrays starting\n",
    "with 0 and counts up from there)."
   ]
  },
  {
   "cell_type": "code",
   "execution_count": null,
   "id": "2b141c18",
   "metadata": {},
   "outputs": [],
   "source": [
    "numberArray[0]"
   ]
  },
  {
   "cell_type": "markdown",
   "id": "a281670f",
   "metadata": {},
   "source": [
    "## Problem 3\n",
    "\n",
    "Place an integer in the brackets in the following cell to try to get the output of \"10\"."
   ]
  },
  {
   "cell_type": "code",
   "execution_count": null,
   "id": "c401fd75",
   "metadata": {},
   "outputs": [],
   "source": [
    "numberArray[]"
   ]
  },
  {
   "cell_type": "markdown",
   "id": "c8304158",
   "metadata": {},
   "source": [
    "Numpy will treat arrays in many ways like vectors. \n",
    "This means, with the right functions, we can use various vector transformations.\n",
    "For instance, we could calculate the dot product of numberArray with itself.\n",
    "\n",
    "You can find all the functions that numpy builds in to work with\n",
    "numpy arrays here: https://numpy.org/doc/stable/reference/index.html#reference"
   ]
  },
  {
   "cell_type": "code",
   "execution_count": null,
   "id": "089907b1",
   "metadata": {},
   "outputs": [],
   "source": [
    "np.dot(numberArray, numberArray)"
   ]
  },
  {
   "cell_type": "markdown",
   "id": "25f10e17",
   "metadata": {},
   "source": [
    "We can manually write out this same calculation, as seen in the following problem. "
   ]
  },
  {
   "cell_type": "markdown",
   "id": "680e29bf",
   "metadata": {},
   "source": [
    "## Problem 4\n",
    "\n",
    "Try to fill in the missing integer. Note that \"taking to the power of\" in python is shown using the double star `**`."
   ]
  },
  {
   "cell_type": "code",
   "execution_count": null,
   "id": "e53c2adf",
   "metadata": {},
   "outputs": [],
   "source": [
    "numberArray[0]**2 + numberArray[1]**2 + numberArray[ ]**2 + numberArray[3]**2"
   ]
  },
  {
   "cell_type": "markdown",
   "id": "7b20ea7f",
   "metadata": {},
   "source": [
    "# Operations\n",
    "\n",
    "## Arithmetic\n",
    "\n",
    "Python can easily be used for basic math operations just like any other basic scientific calculator. Try running the following cells that contain operations"
   ]
  },
  {
   "cell_type": "markdown",
   "id": "88f0620a",
   "metadata": {},
   "source": [
    "Addition"
   ]
  },
  {
   "cell_type": "code",
   "execution_count": null,
   "id": "f606c1a3",
   "metadata": {},
   "outputs": [],
   "source": [
    "7 + 5"
   ]
  },
  {
   "cell_type": "markdown",
   "id": "00d2d8f7",
   "metadata": {},
   "source": [
    "Subtraction"
   ]
  },
  {
   "cell_type": "code",
   "execution_count": null,
   "id": "be436b59",
   "metadata": {},
   "outputs": [],
   "source": [
    "7 - 5"
   ]
  },
  {
   "cell_type": "markdown",
   "id": "f6355df6",
   "metadata": {},
   "source": [
    "Multiplication"
   ]
  },
  {
   "cell_type": "code",
   "execution_count": null,
   "id": "d38127ff",
   "metadata": {},
   "outputs": [],
   "source": [
    "7 * 5"
   ]
  },
  {
   "cell_type": "markdown",
   "id": "5692fa8c",
   "metadata": {},
   "source": [
    "Division"
   ]
  },
  {
   "cell_type": "code",
   "execution_count": null,
   "id": "7ba5fd24",
   "metadata": {},
   "outputs": [],
   "source": [
    "7/5"
   ]
  },
  {
   "cell_type": "markdown",
   "id": "150a86bb",
   "metadata": {},
   "source": [
    "Exponents"
   ]
  },
  {
   "cell_type": "code",
   "execution_count": null,
   "id": "d9e575c4",
   "metadata": {},
   "outputs": [],
   "source": [
    "7**5"
   ]
  },
  {
   "cell_type": "markdown",
   "id": "fd613f4c",
   "metadata": {},
   "source": [
    "Parentheses can be used to specify an order of operations. Try to predict the output of both the following cells:"
   ]
  },
  {
   "cell_type": "code",
   "execution_count": null,
   "id": "04c907d8",
   "metadata": {},
   "outputs": [],
   "source": [
    "(2 + 3)*(1 + 1)"
   ]
  },
  {
   "cell_type": "code",
   "execution_count": null,
   "id": "ab625ea6",
   "metadata": {},
   "outputs": [],
   "source": [
    "2 + (3*1) + 1"
   ]
  },
  {
   "cell_type": "markdown",
   "id": "e69d29fc",
   "metadata": {},
   "source": [
    "Parentheses can also be used to specify what is in an exponential. Try to predict the output of both the following cells:"
   ]
  },
  {
   "cell_type": "code",
   "execution_count": null,
   "id": "072e8a1f",
   "metadata": {},
   "outputs": [],
   "source": [
    "2**(2 + 1)"
   ]
  },
  {
   "cell_type": "code",
   "execution_count": null,
   "id": "04138ba4",
   "metadata": {},
   "outputs": [],
   "source": [
    "(2**2) + 1"
   ]
  },
  {
   "cell_type": "markdown",
   "id": "f3ea1c36",
   "metadata": {},
   "source": [
    "## Sympy and Calculus\n",
    "\n",
    "Unfortunately, when it comes to more advanced math such derivatives or integrals in calculus, basic python leaves a lot to be desired. Fortunately, there's a package for that! Sympy, aka \"symbolic python\" has a lot of really great tools to facilitiate more advanced math. This section of the tutorial will focus on setting up and using sympy. More instructions can be found here: https://docs.sympy.org/latest/index.html and here: https://docs.sympy.org/latest/tutorial/calculus.html\n",
    "\n",
    "First, we'll import and rename sympy to `sy`."
   ]
  },
  {
   "cell_type": "code",
   "execution_count": null,
   "id": "54b12b85",
   "metadata": {},
   "outputs": [],
   "source": [
    "import sympy as sy"
   ]
  },
  {
   "cell_type": "markdown",
   "id": "421012e3",
   "metadata": {},
   "source": [
    "Some constants come pre-set:"
   ]
  },
  {
   "cell_type": "code",
   "execution_count": null,
   "id": "03ccee45",
   "metadata": {},
   "outputs": [],
   "source": [
    "print(sy.N(sy.E), sy.N(sy.I), sy.N(sy.pi)) #sy.N forces the value to a number"
   ]
  },
  {
   "cell_type": "markdown",
   "id": "d8737600",
   "metadata": {},
   "source": [
    "Now we can do factorials and logarithms:"
   ]
  },
  {
   "cell_type": "code",
   "execution_count": null,
   "id": "fe4fe45d",
   "metadata": {},
   "outputs": [],
   "source": [
    "sy.factorial(7)"
   ]
  },
  {
   "cell_type": "code",
   "execution_count": null,
   "id": "884595cc",
   "metadata": {},
   "outputs": [],
   "source": [
    "sy.log(7)"
   ]
  },
  {
   "cell_type": "markdown",
   "id": "6fc36946",
   "metadata": {},
   "source": [
    "Sometimes you'll want a numerical answer, to make sympy give you one, use the `N()` function:"
   ]
  },
  {
   "cell_type": "code",
   "execution_count": null,
   "id": "dc8f1d95",
   "metadata": {},
   "outputs": [],
   "source": [
    "sy.N(sy.log(7))"
   ]
  },
  {
   "cell_type": "markdown",
   "id": "4e83d320",
   "metadata": {},
   "source": [
    "Sympy assumes the natural logarithm i.e. `base = sy.E`; to get a different one set a different `base` as the second argument to the function:"
   ]
  },
  {
   "cell_type": "code",
   "execution_count": null,
   "id": "d0285f5c",
   "metadata": {},
   "outputs": [],
   "source": [
    "sy.log(7, 7)"
   ]
  },
  {
   "cell_type": "markdown",
   "id": "58e80a2d",
   "metadata": {},
   "source": [
    "To start to do calculus, we first need to set up some sympy variables. These are a bit different from regular python variables and so it's important that all your variables are clearly defined! Here, we create **sympy** variables $x$, $y$, and $\\theta$, and store them in **python** variables named `x`, `y`, and `theta`."
   ]
  },
  {
   "cell_type": "code",
   "execution_count": null,
   "id": "6fcdd8e7",
   "metadata": {},
   "outputs": [],
   "source": [
    "x, y, theta = sy.symbols('x y theta') "
   ]
  },
  {
   "cell_type": "code",
   "execution_count": null,
   "id": "8bf457ef",
   "metadata": {},
   "outputs": [],
   "source": [
    "x"
   ]
  },
  {
   "cell_type": "code",
   "execution_count": null,
   "id": "5ff4f45d",
   "metadata": {},
   "outputs": [],
   "source": [
    "y"
   ]
  },
  {
   "cell_type": "code",
   "execution_count": null,
   "id": "3d1063e3",
   "metadata": {},
   "outputs": [],
   "source": [
    "theta #notice that we get the symbol theta"
   ]
  },
  {
   "cell_type": "markdown",
   "id": "3280d0a7",
   "metadata": {},
   "source": [
    "Now we can use these sympy variables to do symbolic math; if these were simply python variables python would require the variables to have numerical values to do any math with them."
   ]
  },
  {
   "cell_type": "code",
   "execution_count": null,
   "id": "d9ee19ef",
   "metadata": {},
   "outputs": [],
   "source": [
    "2*x**2 #notice the pretty printing"
   ]
  },
  {
   "cell_type": "markdown",
   "id": "bdb8188d",
   "metadata": {},
   "source": [
    "To take the derivative, we use the sympy function `diff`. "
   ]
  },
  {
   "cell_type": "code",
   "execution_count": null,
   "id": "7bf1d76b",
   "metadata": {},
   "outputs": [],
   "source": [
    "sy.diff(2*x**2, x)"
   ]
  },
  {
   "cell_type": "markdown",
   "id": "28706f99",
   "metadata": {},
   "source": [
    "Notice that it doesn't work if I don't explicitly multiply:"
   ]
  },
  {
   "cell_type": "code",
   "execution_count": null,
   "id": "94e1fa20",
   "metadata": {},
   "outputs": [],
   "source": [
    "sy.diff(2x**2, x)"
   ]
  },
  {
   "cell_type": "markdown",
   "id": "e953ccd5",
   "metadata": {},
   "source": [
    "## Problem 5\n",
    "\n",
    "Now predict the output of the following cell. Then, in the following empty cells, take the following derivatives:\n",
    "\n",
    "1. $\\frac{d(30y^2)}{dy}$\n",
    "\n",
    "2. $\\frac{d(5e^{2x})}{dx}$\n",
    "\n",
    "3. $\\frac{d(\\cos(5\\theta)}{d\\theta}$"
   ]
  },
  {
   "cell_type": "code",
   "execution_count": null,
   "id": "df079562",
   "metadata": {},
   "outputs": [],
   "source": [
    "sy.diff(30*y, y)"
   ]
  },
  {
   "cell_type": "code",
   "execution_count": null,
   "id": "3051c1bf",
   "metadata": {},
   "outputs": [],
   "source": []
  },
  {
   "cell_type": "code",
   "execution_count": null,
   "id": "037ca86f",
   "metadata": {},
   "outputs": [],
   "source": []
  },
  {
   "cell_type": "code",
   "execution_count": null,
   "id": "45f91ef4",
   "metadata": {},
   "outputs": [],
   "source": []
  },
  {
   "cell_type": "markdown",
   "id": "72f1672f",
   "metadata": {},
   "source": [
    "You can see that for simple derivatives like the ones above: \n",
    "the function that you want to take the derivative of \n",
    "is the first argument of the function, \n",
    "while the variable that you are taking the derivative with \n",
    "respect to is second argument.\n",
    "\n",
    "You can even take the second or partial derivative of something. \n",
    "Try to predict the output of the following cells:"
   ]
  },
  {
   "cell_type": "code",
   "execution_count": null,
   "id": "8af6b2df",
   "metadata": {},
   "outputs": [],
   "source": [
    "sy.diff(3*x**3, x, 2)"
   ]
  },
  {
   "cell_type": "code",
   "execution_count": null,
   "id": "1290a5ae",
   "metadata": {},
   "outputs": [],
   "source": [
    "sy.diff(5*x*y, x) \n",
    "#you can think of this on some level as taking a partial derivative \n",
    "#of the function with respect to x"
   ]
  },
  {
   "cell_type": "markdown",
   "id": "9b8ffae2",
   "metadata": {},
   "source": [
    "## Problem 6\n",
    "\n",
    "In the following empty cells, take the following derivatives:\n",
    "\n",
    "1. $\\frac{\\partial(30y^2 + 5e^{2x} + \\cos(5\\theta))}{\\partial y}$\n",
    "\n",
    "2. $\\frac{\\partial^2(30y^2 + 5e^{2x} + \\cos(5\\theta))}{\\partial y\\partial \\theta}$\n",
    "\n",
    "3. $\\frac{\\partial^2(10xy^2 )}{\\partial^2 y}$\n",
    "\n",
    "4. $\\frac{\\partial^2(10xy^2 )}{\\partial^2 x}$\n",
    "\n",
    "5. $\\frac{\\partial^2(10xy^2 )}{\\partial x \\partial y}$"
   ]
  },
  {
   "cell_type": "code",
   "execution_count": null,
   "id": "f19df71c",
   "metadata": {},
   "outputs": [],
   "source": []
  },
  {
   "cell_type": "code",
   "execution_count": null,
   "id": "a9104709",
   "metadata": {},
   "outputs": [],
   "source": []
  },
  {
   "cell_type": "code",
   "execution_count": null,
   "id": "a4236dac",
   "metadata": {},
   "outputs": [],
   "source": []
  },
  {
   "cell_type": "code",
   "execution_count": null,
   "id": "d4eec67c",
   "metadata": {},
   "outputs": [],
   "source": []
  },
  {
   "cell_type": "code",
   "execution_count": null,
   "id": "e7942230",
   "metadata": {},
   "outputs": [],
   "source": []
  },
  {
   "cell_type": "markdown",
   "id": "a38098c2",
   "metadata": {},
   "source": [
    "Sympy also lets you integrate functions. Try running the following cell:"
   ]
  },
  {
   "cell_type": "code",
   "execution_count": null,
   "id": "4aefd8c6",
   "metadata": {},
   "outputs": [],
   "source": [
    "sy.integrate(x, (x, 0, 1))"
   ]
  },
  {
   "cell_type": "markdown",
   "id": "4f2854d9",
   "metadata": {},
   "source": [
    "To integrate to infinity use the sympy infinity object, `oo` (two lowercase oh's)."
   ]
  },
  {
   "cell_type": "code",
   "execution_count": null,
   "id": "eacb8ea5",
   "metadata": {},
   "outputs": [],
   "source": [
    "sy.integrate(sy.E**(-x**2), (x, 0, sy.oo))"
   ]
  },
  {
   "cell_type": "markdown",
   "id": "5719a34a",
   "metadata": {},
   "source": [
    "Try to predict the output of the following cell:"
   ]
  },
  {
   "cell_type": "code",
   "execution_count": null,
   "id": "25654f66",
   "metadata": {},
   "outputs": [],
   "source": [
    "sy.integrate(x**2, (x, 0, y))"
   ]
  },
  {
   "cell_type": "markdown",
   "id": "fda3bea0",
   "metadata": {},
   "source": [
    "As you can see above: the integrand is first argument of the function, and the variable you are taking the integral over is expressed as the first entity within the inner parentheses `( )` with the lower and upper bounds following.\n",
    "\n",
    "You can also do an indefinite integral:"
   ]
  },
  {
   "cell_type": "code",
   "execution_count": null,
   "id": "486a6383",
   "metadata": {
    "scrolled": true
   },
   "outputs": [],
   "source": [
    "sy.integrate(x**2, x)"
   ]
  },
  {
   "cell_type": "markdown",
   "id": "6ce2cd24",
   "metadata": {},
   "source": [
    "## Problem 7\n",
    "\n",
    "Take the following integrals.\n",
    "\n",
    "1. $\\int 8 \\cos(-2 \\theta) d\\theta$\n",
    "\n",
    "2. $\\int_{-10}^{20} 4 x^3 dx$\n",
    "\n",
    "3. $\\int_{-\\infty}^{\\infty}e^{-x^2}dx$\n",
    "\n",
    "4. $\\int_{0}^{x}8y^3 + y^2 + 2y dy$\n",
    "\n",
    "\n"
   ]
  },
  {
   "cell_type": "code",
   "execution_count": null,
   "id": "98bc2df4",
   "metadata": {},
   "outputs": [],
   "source": []
  },
  {
   "cell_type": "code",
   "execution_count": null,
   "id": "c974dd6c",
   "metadata": {},
   "outputs": [],
   "source": []
  },
  {
   "cell_type": "code",
   "execution_count": null,
   "id": "5adbeab4",
   "metadata": {},
   "outputs": [],
   "source": []
  },
  {
   "cell_type": "code",
   "execution_count": null,
   "id": "034fca60",
   "metadata": {},
   "outputs": [],
   "source": []
  },
  {
   "cell_type": "markdown",
   "id": "f6d761be",
   "metadata": {},
   "source": [
    "There is a handy feature that lets you solve equalities for variables. \n",
    "One thing to be careful of - the symbol `=` \n",
    "in python is specifically used to assign variables, \n",
    "so sympy doesn't use it to note that two expressions are equal to each other.\n",
    "Instead, use the sympy function `Eq()` where the two arguments are two functions \n",
    "that are equal to each other.\n",
    "\n",
    "The following code solves an equation for `x`."
   ]
  },
  {
   "cell_type": "code",
   "execution_count": null,
   "id": "3bf76d43",
   "metadata": {},
   "outputs": [],
   "source": [
    "sy.solve(sy.Eq(5*x, 15), x)"
   ]
  },
  {
   "cell_type": "markdown",
   "id": "6e452134",
   "metadata": {},
   "source": [
    "## Problem 8\n",
    "\n",
    "Solve the following equations for $x$, $y$, or $\\theta$.\n",
    "\n",
    "1. $8 \\cos(-2 \\theta) = 10$\n",
    "\n",
    "2. $4 x^3 = 3$\n",
    "\n",
    "3. $e^{-x^2} = 1$\n",
    "\n",
    "4. $8y^3 + y^2 + 2y = 0$"
   ]
  },
  {
   "cell_type": "code",
   "execution_count": null,
   "id": "35679157",
   "metadata": {},
   "outputs": [],
   "source": []
  },
  {
   "cell_type": "code",
   "execution_count": null,
   "id": "7f8e5fa3",
   "metadata": {},
   "outputs": [],
   "source": []
  },
  {
   "cell_type": "code",
   "execution_count": null,
   "id": "6156fc81",
   "metadata": {},
   "outputs": [],
   "source": [
    "sy.solve(sy.Eq(sy.E**(-x**2), 1), x)"
   ]
  },
  {
   "cell_type": "code",
   "execution_count": null,
   "id": "5c809b01",
   "metadata": {},
   "outputs": [],
   "source": []
  },
  {
   "cell_type": "markdown",
   "id": "98a673e7",
   "metadata": {},
   "source": [
    "Note that the trig functions in sympy (and also numpy) assume you're in radians, not degrees. Notice that sympy analytically solves for the exact answer for $\\cos(\\pi/2)$, while numpy finds a numerical approximation."
   ]
  },
  {
   "cell_type": "code",
   "execution_count": null,
   "id": "d12fdfbe",
   "metadata": {},
   "outputs": [],
   "source": [
    "[sy.cos(sy.pi/2), sy.sin(sy.pi/2)]"
   ]
  },
  {
   "cell_type": "code",
   "execution_count": null,
   "id": "117f5f4a",
   "metadata": {},
   "outputs": [],
   "source": [
    "[np.cos(np.pi/2), np.sin(np.pi/2)]"
   ]
  },
  {
   "cell_type": "markdown",
   "id": "6d18ea7f",
   "metadata": {},
   "source": [
    "Numpy is very useful for statistical calculations. Here we have defined a list of steps that someone takes while walking their dog each day:"
   ]
  },
  {
   "cell_type": "code",
   "execution_count": null,
   "id": "6868cf49",
   "metadata": {},
   "outputs": [],
   "source": [
    "stepsWalked = np.array([5108, 6576, 2363, 1247, 6816, 3289, 2764, 2687, 2782, 5020])"
   ]
  },
  {
   "cell_type": "markdown",
   "id": "ee799b1b",
   "metadata": {},
   "source": [
    "We can take the mean using numpy to find the average steps walked over a 10 day period:"
   ]
  },
  {
   "cell_type": "code",
   "execution_count": null,
   "id": "7ee8fc29",
   "metadata": {},
   "outputs": [],
   "source": [
    "np.mean(stepsWalked)"
   ]
  },
  {
   "cell_type": "markdown",
   "id": "657f8bdf",
   "metadata": {},
   "source": [
    "The total:"
   ]
  },
  {
   "cell_type": "code",
   "execution_count": null,
   "id": "146fb991",
   "metadata": {},
   "outputs": [],
   "source": [
    "np.sum(stepsWalked)"
   ]
  },
  {
   "cell_type": "markdown",
   "id": "d3f70c4e",
   "metadata": {},
   "source": [
    "Standard deviation and variance:"
   ]
  },
  {
   "cell_type": "code",
   "execution_count": null,
   "id": "29789b2e",
   "metadata": {},
   "outputs": [],
   "source": [
    "print(np.std(stepsWalked), np.var(stepsWalked))"
   ]
  },
  {
   "cell_type": "code",
   "execution_count": null,
   "id": "5c5c8040",
   "metadata": {},
   "outputs": [],
   "source": [
    "np.random.random(10)*1000"
   ]
  },
  {
   "cell_type": "markdown",
   "id": "e534d508",
   "metadata": {},
   "source": [
    "## Problem 9\n",
    "\n",
    "The next cell defines a list of random numbers between 0 and 1000. In the next cells, calculate the mean, sum, standard deviation, and variance of the values in the list."
   ]
  },
  {
   "cell_type": "code",
   "execution_count": null,
   "id": "01a7b2de",
   "metadata": {},
   "outputs": [],
   "source": [
    "rand_list = np.array([181.24182902, 704.29210729, 218.20596745, 556.20173066,\n",
    "       440.43971705, 315.61106444, 588.91608813, 371.15551039,\n",
    "       506.80480831, 548.71662385])"
   ]
  },
  {
   "cell_type": "code",
   "execution_count": null,
   "id": "e6a9df0f",
   "metadata": {},
   "outputs": [],
   "source": []
  },
  {
   "cell_type": "code",
   "execution_count": null,
   "id": "9ec3509e",
   "metadata": {},
   "outputs": [],
   "source": []
  },
  {
   "cell_type": "code",
   "execution_count": null,
   "id": "ef6f438d",
   "metadata": {},
   "outputs": [],
   "source": []
  },
  {
   "cell_type": "code",
   "execution_count": null,
   "id": "57ffdc76",
   "metadata": {},
   "outputs": [],
   "source": []
  },
  {
   "cell_type": "markdown",
   "id": "bd74d101",
   "metadata": {},
   "source": [
    "In python, you have the wide ability to define your own functions. \n",
    "These functions can use numpy, sympy, basic python, and any other\n",
    "packages you have access too. These examples will focus on using\n",
    "sympy to define symbolic math functions, but please feel free to\n",
    "experiment!\n",
    "\n",
    "The most important elements of a python function are its arguments\n",
    "and what it returns. Below, I define a function `f`, which takes an argument `a`\n",
    "and which returns `5 a`. I also include a \"docstring\" between two sets of \n",
    "triple quotation marks `\"\"\"` which serve to help readers understand what my function\n",
    "does. Docstrings in functions are not required, but are **highly** recommended."
   ]
  },
  {
   "cell_type": "code",
   "execution_count": null,
   "id": "cd9854a4",
   "metadata": {},
   "outputs": [],
   "source": [
    "def f(a):\n",
    "    \"\"\"\n",
    "    multiply the input by 5\n",
    "    \n",
    "    Parameters\n",
    "    ----------\n",
    "    a : float or sympy symbol\n",
    "        the number or variable to be multiplied\n",
    "\n",
    "    Returns\n",
    "    -------\n",
    "    float or sympy symbol\n",
    "        the input multiplied by 5\n",
    "    \"\"\"\n",
    "    return a*5"
   ]
  },
  {
   "cell_type": "markdown",
   "id": "5938a2e8",
   "metadata": {},
   "source": [
    "We can then use the function f we defined above to determine what happens when x=3 (or any other value you wanted). Run the following cell:"
   ]
  },
  {
   "cell_type": "code",
   "execution_count": null,
   "id": "75728f37",
   "metadata": {},
   "outputs": [],
   "source": [
    "f(3)"
   ]
  },
  {
   "cell_type": "markdown",
   "id": "3c9b6504",
   "metadata": {},
   "source": [
    "We could also use our function on a sympy symbol:"
   ]
  },
  {
   "cell_type": "code",
   "execution_count": null,
   "id": "48f99743",
   "metadata": {},
   "outputs": [],
   "source": [
    "x, y = sy.symbols('x y') \n",
    "f(x*y)"
   ]
  },
  {
   "cell_type": "markdown",
   "id": "18a56446",
   "metadata": {},
   "source": [
    "And do calculus to them:"
   ]
  },
  {
   "cell_type": "code",
   "execution_count": null,
   "id": "efe174f6",
   "metadata": {},
   "outputs": [],
   "source": [
    "sy.diff(f(x*y), x)"
   ]
  },
  {
   "cell_type": "code",
   "execution_count": null,
   "id": "4ac04a62",
   "metadata": {},
   "outputs": [],
   "source": [
    "sy.integrate(f(x*y), x)"
   ]
  },
  {
   "cell_type": "markdown",
   "id": "dedc335c",
   "metadata": {},
   "source": [
    "You can also write functions that utilize other functions that you (or others) have already written. Here we define a function g with our previously defined function f inside of it. Run the following cell:"
   ]
  },
  {
   "cell_type": "code",
   "execution_count": null,
   "id": "3124096a",
   "metadata": {},
   "outputs": [],
   "source": [
    "def g(b):\n",
    "    \"\"\"\n",
    "    run a more complex transformation on an input\n",
    "    \n",
    "    Parameters\n",
    "    ----------\n",
    "    b : float or sympy symbol\n",
    "        the number or variable to be transformed\n",
    "\n",
    "    Returns\n",
    "    -------\n",
    "    float or sympy symbol\n",
    "        the output\n",
    "    \"\"\"\n",
    "    return b*f(b)"
   ]
  },
  {
   "cell_type": "markdown",
   "id": "16cf6db9",
   "metadata": {},
   "source": [
    "Can you predict the output of the following cell?"
   ]
  },
  {
   "cell_type": "code",
   "execution_count": null,
   "id": "ebdf3432",
   "metadata": {},
   "outputs": [],
   "source": [
    "g(2)"
   ]
  },
  {
   "cell_type": "markdown",
   "id": "b9ae3753",
   "metadata": {},
   "source": [
    "What about this one?"
   ]
  },
  {
   "cell_type": "code",
   "execution_count": null,
   "id": "7653bdc7",
   "metadata": {},
   "outputs": [],
   "source": [
    "g(x)"
   ]
  },
  {
   "cell_type": "markdown",
   "id": "50670c71",
   "metadata": {},
   "source": [
    "## Problem 10\n",
    "\n",
    "Define the following function:\n",
    "\n",
    "$$h(x) = \\sqrt{5*f(x)*g(x)}$$\n",
    "\n",
    "where $f(x)$ and $g(x)$ are the functions defined above.\n",
    "\n",
    "Then, evaluate $h(2)$, $d h(x)/dx$, and $\\int h(x) dx$."
   ]
  },
  {
   "cell_type": "code",
   "execution_count": null,
   "id": "e79690ac",
   "metadata": {},
   "outputs": [],
   "source": [
    "def h(x):\n",
    "    \"\"\"\n",
    "    run a more complex transformation on an input\n",
    "    \n",
    "    Parameters\n",
    "    ----------\n",
    "    b : float or sympy symbol\n",
    "        the number or variable to be transformed\n",
    "\n",
    "    Returns\n",
    "    -------\n",
    "    float or sympy symbol\n",
    "        the output\n",
    "    \"\"\"\n",
    "    \n",
    "    return "
   ]
  },
  {
   "cell_type": "code",
   "execution_count": null,
   "id": "427db878",
   "metadata": {},
   "outputs": [],
   "source": []
  },
  {
   "cell_type": "code",
   "execution_count": null,
   "id": "6e97f9a6",
   "metadata": {},
   "outputs": [],
   "source": []
  },
  {
   "cell_type": "code",
   "execution_count": null,
   "id": "5a68131f",
   "metadata": {},
   "outputs": [],
   "source": []
  },
  {
   "cell_type": "markdown",
   "id": "d9694fea",
   "metadata": {},
   "source": [
    "# Loops\n",
    "\n",
    "One of the most important and useful features of python (or any coding language) is the ability to do a series of calculations in a row. These are called loops.\n",
    "There are a few types of loops in python, but we're going to focus on the `for` loop.\n",
    "This will use an array as a basis for carrying out a calculation once for each item in\n",
    "the array, until there are no more items.\n",
    "\n",
    "Let's use numpy to create an array with entries from 0 to 49 \n",
    "(remember that python always starts counting from zero!).\n"
   ]
  },
  {
   "cell_type": "code",
   "execution_count": null,
   "id": "dfc88a4f",
   "metadata": {},
   "outputs": [],
   "source": [
    "a = np.arange(50)\n",
    "a"
   ]
  },
  {
   "cell_type": "markdown",
   "id": "991f769f",
   "metadata": {},
   "source": [
    "Now I'll add all of them up:"
   ]
  },
  {
   "cell_type": "code",
   "execution_count": null,
   "id": "2fe39525",
   "metadata": {},
   "outputs": [],
   "source": [
    "k = 0\n",
    "for i in a:\n",
    "    k += i\n",
    "    print(k)"
   ]
  },
  {
   "cell_type": "markdown",
   "id": "4a020144",
   "metadata": {},
   "source": [
    "Checking that my total is correct:"
   ]
  },
  {
   "cell_type": "code",
   "execution_count": null,
   "id": "2f1d1475",
   "metadata": {},
   "outputs": [],
   "source": [
    "print(k)\n",
    "print(np.sum(a))"
   ]
  },
  {
   "cell_type": "markdown",
   "id": "5cd9d301",
   "metadata": {},
   "source": [
    "# Problem 11\n",
    "\n",
    "Write a for loop which prints the first 20 multiples of 5. The first item printed should be 5, and the final item should be 100."
   ]
  },
  {
   "cell_type": "code",
   "execution_count": null,
   "id": "28f0217e",
   "metadata": {},
   "outputs": [],
   "source": [
    "for [fill in]:\n",
    "    print([fill in])"
   ]
  },
  {
   "cell_type": "markdown",
   "id": "b3c5563f",
   "metadata": {},
   "source": [
    "# Conditionals\n",
    "\n",
    "You will also frequently use conditionals in this class. \n",
    "The basic idea behind conditionals is that you check IF something\n",
    "is true or not and based off that determination do one action or another. \n",
    "Try and predict the outcome of the below cell \n",
    "(hint: the first line contains the check, \n",
    "the second is what happens if true, and the third is what happens if false."
   ]
  },
  {
   "cell_type": "code",
   "execution_count": null,
   "id": "86f016d6",
   "metadata": {},
   "outputs": [],
   "source": [
    "a = 1\n",
    "b = 2"
   ]
  },
  {
   "cell_type": "code",
   "execution_count": null,
   "id": "dba148fc",
   "metadata": {},
   "outputs": [],
   "source": [
    "if a > b:\n",
    "    print('a is greater than b')\n",
    "else: \n",
    "    print('a is greater than or equal to b')"
   ]
  },
  {
   "cell_type": "markdown",
   "id": "e36d8b6b",
   "metadata": {},
   "source": [
    "## Problem 12\n",
    "\n",
    "Copy the code in the cell above and edit it so that it prints \"a is greater than b\". The statement does not need to be true, it just needs to be printed!"
   ]
  },
  {
   "cell_type": "code",
   "execution_count": null,
   "id": "98bbaf44",
   "metadata": {},
   "outputs": [],
   "source": []
  },
  {
   "cell_type": "markdown",
   "id": "9090c74c",
   "metadata": {},
   "source": [
    "# Visualization and Plotting\n",
    "\n",
    "The python package matplotlib is very good at visualizing your data and results. \n",
    "The two most common ways that we will do this in Pchem and Qchem are through scatter plots (mostly with numpy) and line plots (with sympy, where the matplotlib is more hidden).\n",
    "\n",
    "For a line plot example, let's generate a plot of $\\sin$ from $\\theta$ equals 0 to theta equals 2 $\\pi$. \n",
    "(Find more info about the plot function here: https://docs.sympy.org/latest/modules/plotting.html#plotting-function-reference)"
   ]
  },
  {
   "cell_type": "code",
   "execution_count": null,
   "id": "ca184687",
   "metadata": {},
   "outputs": [],
   "source": [
    "sy.plotting.plot(sy.sin(theta), (theta, 0, 2*sy.pi), ylabel=r'$\\sin(\\theta)$', xlabel=r'$\\theta$') \n",
    "#r in front of a string on line 2 lets me use latex to get nice math symbols\n"
   ]
  },
  {
   "cell_type": "markdown",
   "id": "d98c73d8",
   "metadata": {},
   "source": [
    "We can also plot multiple functions:"
   ]
  },
  {
   "cell_type": "code",
   "execution_count": null,
   "id": "befd1238",
   "metadata": {},
   "outputs": [],
   "source": [
    "sy.plotting.plot(sy.sin(theta), sy.cos(theta), (theta, 0, 2*sy.pi), \n",
    "                 legend=True, ylabel=r'$f(\\theta)$', xlabel=r'$\\theta$') \n",
    "#r in front of a string on line 2 lets me use latex to get nice math symbols\n"
   ]
  },
  {
   "cell_type": "markdown",
   "id": "8db6c1d0",
   "metadata": {},
   "source": [
    "And we can change the limits:"
   ]
  },
  {
   "cell_type": "code",
   "execution_count": null,
   "id": "3883a680",
   "metadata": {},
   "outputs": [],
   "source": [
    "sy.plotting.plot(sy.sin(theta), sy.cos(theta), (theta, 0, 2*sy.pi), \n",
    "                 legend=True, ylabel=r'$f(\\theta)$', xlabel=r'$\\theta$',\n",
    "                 ylim=(-2, 2))\n",
    "#r in front of a string on line 2 lets me use latex to get nice math symbols\n"
   ]
  },
  {
   "cell_type": "markdown",
   "id": "689c4f80",
   "metadata": {},
   "source": [
    "To change other options, we need to access the underlying matplotlib detault parameters:"
   ]
  },
  {
   "cell_type": "code",
   "execution_count": null,
   "id": "7b17bbff",
   "metadata": {},
   "outputs": [],
   "source": [
    "import matplotlib as mpl\n",
    "mpl.rcParams['figure.figsize'] = (16,9)\n",
    "mpl.rcParams['font.size'] = 30\n",
    "mpl.rcParams['legend.fontsize'] = 20\n",
    "\n",
    "sy.plotting.plot(sy.sin(theta), sy.cos(theta), (theta, 0, 2*sy.pi), \n",
    "                 legend=True, ylabel=r'$f(\\theta)$', xlabel=r'$\\theta$',\n",
    "                 ylim=(-2, 2))\n",
    "#r in front of a string on line 2 lets me use latex to get nice math symbols\n"
   ]
  },
  {
   "cell_type": "code",
   "execution_count": null,
   "id": "5cb1345f",
   "metadata": {},
   "outputs": [],
   "source": [
    "mpl.style.use('default') #restoring matplotlib's default settings"
   ]
  },
  {
   "cell_type": "markdown",
   "id": "31bcd2fc",
   "metadata": {},
   "source": [
    "## Problem 13\n",
    "\n",
    "Use `sy.plotting.plot()` to plot the functions $x$, $x^2$, $x^3$, and $x^4$ from -10 to 10 on one plot. Include a legend to tell the curves apart and clear axes labels."
   ]
  },
  {
   "cell_type": "code",
   "execution_count": null,
   "id": "748bb117",
   "metadata": {},
   "outputs": [],
   "source": []
  },
  {
   "cell_type": "markdown",
   "id": "993dc2bc",
   "metadata": {},
   "source": [
    "To generate a scatterplot, we will need to use matplotlib more explicitly. \n",
    "Let's import the package then rename it to `plt`."
   ]
  },
  {
   "cell_type": "code",
   "execution_count": null,
   "id": "b898537c",
   "metadata": {},
   "outputs": [],
   "source": [
    "import matplotlib.pyplot as plt"
   ]
  },
  {
   "cell_type": "markdown",
   "id": "598a548b",
   "metadata": {},
   "source": [
    "To generate a plot, we need to give a numpy array to the `plt.plot` function:"
   ]
  },
  {
   "cell_type": "code",
   "execution_count": null,
   "id": "7cac5f81",
   "metadata": {},
   "outputs": [],
   "source": [
    "pagesList = np.array([475, 350, 575, 400, 600, 250, 350])\n",
    "plt.plot(pagesList)"
   ]
  },
  {
   "cell_type": "markdown",
   "id": "bd8556d2",
   "metadata": {},
   "source": [
    "Note that matplotlib automatically did two interesting things. \n",
    "1. it connected the points. For most scatterplots, we don't actually want that.\n",
    "2. it assumed the x-values were the indexes of the data we gave. More often,\n",
    "we'll have some specific x-values in mind. In the next cell, I address both issues."
   ]
  },
  {
   "cell_type": "code",
   "execution_count": null,
   "id": "7b6a9191",
   "metadata": {},
   "outputs": [],
   "source": [
    "weights = np.array([3.1, 2.7, 3.9, 2.9, 5.3, 2.3, 2.5])\n",
    "\n",
    "plt.plot(weights, pagesList, 'ro') #'ro' means red circles, \n",
    "#find more options at the bottom of this page: \n",
    "#https://matplotlib.org/stable/api/_as_gen/matplotlib.pyplot.plot.html\n",
    "plt.xlabel('Weights')\n",
    "plt.ylabel('Pages')\n",
    "#notice that for matplotlib, the x and y labels are separate function calls\n",
    "#but above for sympy plot the x and y labels were arguments to the original plot function"
   ]
  },
  {
   "cell_type": "markdown",
   "id": "11c7b742",
   "metadata": {},
   "source": [
    "We can also plot multiple datasets, though it's easiest if they share the same x-values:"
   ]
  },
  {
   "cell_type": "code",
   "execution_count": null,
   "id": "fc0e999d",
   "metadata": {},
   "outputs": [],
   "source": [
    "weights = np.array([3.1, 2.7, 3.9, 2.9, 5.3, 2.3, 2.5])\n",
    "pagesList2 = 5*pagesList\n",
    "\n",
    "plt.plot(weights, pagesList, 'ro') #'ro' means red circles, \n",
    "plt.plot(weights, pagesList2, 'go') #'go' means green circles, \n",
    "plt.xlabel('Weights')\n",
    "plt.ylabel('Pages')\n",
    "#notice that for matplotlib, we got a second set of data by doing a second plt.plot()\n",
    "#function call"
   ]
  },
  {
   "cell_type": "markdown",
   "id": "144cddb5",
   "metadata": {},
   "source": [
    "And we can change the limits:"
   ]
  },
  {
   "cell_type": "code",
   "execution_count": null,
   "id": "908f9745",
   "metadata": {},
   "outputs": [],
   "source": [
    "weights = np.array([3.1, 2.7, 3.9, 2.9, 5.3, 2.3, 2.5])\n",
    "pagesList2 = 5*pagesList\n",
    "\n",
    "plt.plot(weights, pagesList, 'ro') #'ro' means red circles, \n",
    "plt.plot(weights, pagesList2, 'go') #'go' means green circles, \n",
    "plt.xlabel('Weights')\n",
    "plt.ylabel('Pages')\n",
    "plt.ylim(-3000, 5000)\n",
    "#notice that for matplotlib, we changed the limits though a new function call"
   ]
  },
  {
   "cell_type": "markdown",
   "id": "fab26c74",
   "metadata": {},
   "source": [
    "## Problem 14\n",
    "\n",
    "Plot the following lists in a scatter plot with blue circles. Use `x_values` as the x-values and `y_values` as the y-values."
   ]
  },
  {
   "cell_type": "code",
   "execution_count": null,
   "id": "04c40abe",
   "metadata": {},
   "outputs": [],
   "source": [
    "x_values = np.array([181.24182902, 704.29210729, 218.20596745, 556.20173066,\n",
    "       440.43971705, 315.61106444, 588.91608813, 371.15551039,\n",
    "       506.80480831, 548.71662385])\n",
    "y_values = x_values**2 +5*x_values +3"
   ]
  },
  {
   "cell_type": "code",
   "execution_count": null,
   "id": "a455859c",
   "metadata": {},
   "outputs": [],
   "source": [
    "plt.plot()"
   ]
  },
  {
   "cell_type": "markdown",
   "id": "b577e1d3",
   "metadata": {},
   "source": [
    "# Putting it all together\n",
    "\n",
    "To get a sense of how python can be used in a more chemically minded way \n",
    "and practice all the skills you learned above we will \n",
    "look at the energy levels \n",
    "of H-Cl using concepts that you learned in CHEM112/114. \n",
    "Unless otherwise specified all the formulas and values below \n",
    "come from the Hanson and Green textbook used in CHEM112/114.\n",
    "\n",
    "The total energy of H-Cl in the ground electronic state\n",
    "can be broken down into \n",
    "electronic, vibrational, rotational, and translational \n",
    "energy components. \n",
    "Note, these energies assume the energy of \n",
    "HCl with an infinite bond length is zero, and that we\n",
    "can treat HCl as a harmonic oscillator and a rigid rotor. \n",
    "These are assumptions you made implicitly in CHEM112/114. \n",
    "The energy level functions are given below, and the units of \n",
    "all energies are kJ/mol.\n",
    "\n",
    "There electronic energy is\n",
    "\n",
    "$$\\varepsilon_{\\textrm{elec}} = -D_e = -440.2$$\n",
    "\n",
    "where $D_e$ is the ground state electronic energy of HCl.\n",
    "\n",
    "The vibrational energy is\n",
    "\n",
    "$$\\varepsilon_{\\textrm{vib}}(i, \\mu, k) = \\frac{h}{2\\pi}\\sqrt{\\frac{k}{\\mu}}\\left(i + \\frac{1}{2}\\right)\\textrm{; }i = 0, 1, 2, \\dots$$\n",
    "\n",
    "where $h$ is Plank's constant, $k$ is the force constant for the bond, describing how hard the bond is to break. \n",
    "For HCl, $k = 4772$ N/m.\n",
    "$\\mu$ is the reduced mass of the bond:\n",
    "\n",
    "$$\\mu = \\frac{m_1 m_2}{m_1+m_2}$$\n",
    "\n",
    "where $m_1$ and $m_2$ are the masses of the two atoms in the bond. \n",
    "\n",
    "The rotational energy is\n",
    "\n",
    "$$\\varepsilon_{\\textrm{rot}}(J, \\mu, r_e) = \\left(\\frac{h}{2\\pi}\\right)^2\\frac{J(J+1)}{2\\mu r_e^2}\\textrm{; }J = 0, 1, 2, \\dots$$\n",
    "\n",
    "where $h$ and $\\mu$ have the same meanings as in the vibrational energy function, and $r_e$ is the bond length. \n",
    "For HCl, $r_e = 1.275\\times10^{-10}$ m.\n",
    "\n",
    "The translational energy is \n",
    "$$\\varepsilon_{\\textrm{trans}}(n_x, n_y, n_z, m, d) = \n",
    "\\frac{h}{8m}\\left(\\frac{n_x^2 + n_y^2 + n_z^2}{d}\n",
    "\\right)\\textrm{; }\\substack{\n",
    "n_x = 1, 2, 3, \\dots\\\\\n",
    "n_y = 1, 2, 3, \\dots\\\\\n",
    "n_z = 1, 2, 3, \\dots}$$ \n",
    "\n",
    "where $d$ is the edge length of a cube that the molecule is in,\n",
    "and $m$ is its total mass. You can assume that $d = 10$ m."
   ]
  },
  {
   "cell_type": "markdown",
   "id": "31e2adf3",
   "metadata": {},
   "source": [
    "## Problem 15\n",
    "\n",
    "Define variables to hold values specific to HCl and other constants."
   ]
  },
  {
   "cell_type": "code",
   "execution_count": null,
   "id": "e4b170bc",
   "metadata": {},
   "outputs": [],
   "source": [
    "h = \n",
    "pi =\n",
    "k = \n",
    "d = \n",
    "D_e = "
   ]
  },
  {
   "cell_type": "markdown",
   "id": "8f65deb7",
   "metadata": {},
   "source": [
    "## Problem 16\n",
    "\n",
    "Write functions using sympy to calculate the vibrational, rotational, and translational energies of any diatomic molecule.\n",
    "\n",
    "Make sure that the units of the values returned by your functions\n",
    "are kJ/mol. \n",
    "\n",
    "Hint: it will probably be useful to define an additional function for the reduced mass."
   ]
  },
  {
   "cell_type": "code",
   "execution_count": null,
   "id": "df51413d",
   "metadata": {},
   "outputs": [],
   "source": [
    "def mu():\n",
    "    \"\"\"\n",
    "    [description]\n",
    "    \n",
    "    Parameters\n",
    "    ----------\n",
    "    a : float or sympy symbol\n",
    "        [description] [units]\n",
    "        \n",
    "    Returns\n",
    "    -------\n",
    "    float or sympy symbol\n",
    "        [description] [units]\n",
    "    \"\"\"\n",
    "    \n",
    "    return\n",
    "\n",
    "def e_vib():\n",
    "    \"\"\"\n",
    "    [description]\n",
    "    \n",
    "    Parameters\n",
    "    ----------\n",
    "    a : float or sympy symbol\n",
    "        [description] [units]\n",
    "        \n",
    "    Returns\n",
    "    -------\n",
    "    float or sympy symbol\n",
    "        [description] [units]\n",
    "    \"\"\"\n",
    "    \n",
    "    return\n",
    "\n",
    "def e_rot():\n",
    "    \"\"\"\n",
    "    [description]\n",
    "    \n",
    "    Parameters\n",
    "    ----------\n",
    "    a : float or sympy symbol\n",
    "        [description] [units]\n",
    "        \n",
    "    Returns\n",
    "    -------\n",
    "    float or sympy symbol\n",
    "        [description] [units]\n",
    "    \"\"\"\n",
    "    \n",
    "    return\n",
    "\n",
    "def e_trans():\n",
    "    \"\"\"\n",
    "    [description]\n",
    "    \n",
    "    Parameters\n",
    "    ----------\n",
    "    a : float or sympy symbol\n",
    "        [description] [units]\n",
    "        \n",
    "    Returns\n",
    "    -------\n",
    "    float or sympy symbol\n",
    "        [description] [units]\n",
    "    \"\"\"\n",
    "        \n",
    "    return"
   ]
  },
  {
   "cell_type": "markdown",
   "id": "c609c018",
   "metadata": {},
   "source": [
    "## Problem 17 \n",
    "\n",
    "For a given molecule, the total energy is\n",
    "\n",
    "$$\\varepsilon_{\\textrm{total}}(i, \\mu, k, J, r_e, n_x, n_y, n_z, m, d) =\\\\\n",
    "\\varepsilon_{\\textrm{elec}} +\n",
    "\\varepsilon_{\\textrm{vib}}(i, \\mu, k) +\n",
    "\\varepsilon_{\\textrm{rot}}(J, \\mu, r_e) +\n",
    "\\varepsilon_{\\textrm{trans}}(n_x, n_y, n_z, m, d)\n",
    "$$\n",
    "\n",
    "Write a function to calculate the total energy of HCl given some \n",
    "values for the quantum numbers $i, J, n_x, n_y, n_z$. \n",
    "Calculate the energy when all the quantum numbers are 0 \n",
    "(the ground state) and when all the quantum numbers are 1."
   ]
  },
  {
   "cell_type": "code",
   "execution_count": null,
   "id": "9945ca53",
   "metadata": {},
   "outputs": [],
   "source": [
    "def e_tot():\n",
    "    \"\"\"\n",
    "    [description]\n",
    "    \n",
    "    Parameters\n",
    "    ----------\n",
    "    a : float or sympy symbol\n",
    "        [description] [units]\n",
    "        \n",
    "    Returns\n",
    "    -------\n",
    "    float or sympy symbol\n",
    "        [description] [units]\n",
    "    \"\"\"\n",
    "    \n",
    "    return\n",
    "\n",
    "print(e_tot()) #ground state\n",
    "print(e_tot()) #higher state"
   ]
  },
  {
   "cell_type": "markdown",
   "id": "b21a9dad",
   "metadata": {},
   "source": [
    "## Problem 18\n",
    "\n",
    "How fast does changing the size of the room change the energy of the molecule? Find the derivative of the total energy with respect to $d$."
   ]
  },
  {
   "cell_type": "code",
   "execution_count": null,
   "id": "4f316d6a",
   "metadata": {},
   "outputs": [],
   "source": [
    " = sy.symbols('d ')\n",
    "\n",
    "sy.diff()"
   ]
  },
  {
   "cell_type": "markdown",
   "id": "3abd0e73",
   "metadata": {},
   "source": [
    "## Problem 19\n",
    "\n",
    "What is the relationship between the energy and the bond strength? Plot the energy as a function of the force constant $k$."
   ]
  },
  {
   "cell_type": "code",
   "execution_count": null,
   "id": "7207e2ce",
   "metadata": {},
   "outputs": [],
   "source": [
    " = sy.symbols('k ')\n",
    "\n",
    "sy.diff()"
   ]
  },
  {
   "cell_type": "markdown",
   "id": "e7c07b2b",
   "metadata": {},
   "source": [
    "## Problem 20\n",
    "\n",
    "Use a for loop and conditional statements to calculate the energies of all the levels where all the quantum numbers are the same and even. \n",
    "\n",
    "Hint: the modulus operator `%` will be useful. It returns the remainder after whole number division of the first number by the second. So, 5 % 2 = 1, but 4 % 2 = 0."
   ]
  },
  {
   "cell_type": "code",
   "execution_count": null,
   "id": "c0e4f842",
   "metadata": {},
   "outputs": [],
   "source": [
    "for [fill in]:\n",
    "    if [fill in] % [fill in] == [fill in]:\n",
    "        print([fill in])"
   ]
  },
  {
   "cell_type": "code",
   "execution_count": null,
   "id": "d3d25a43",
   "metadata": {},
   "outputs": [],
   "source": []
  }
 ],
 "metadata": {
  "kernelspec": {
   "display_name": "Python 3 (ipykernel)",
   "language": "python",
   "name": "python3"
  },
  "language_info": {
   "codemirror_mode": {
    "name": "ipython",
    "version": 3
   },
   "file_extension": ".py",
   "mimetype": "text/x-python",
   "name": "python",
   "nbconvert_exporter": "python",
   "pygments_lexer": "ipython3",
   "version": "3.9.7"
  }
 },
 "nbformat": 4,
 "nbformat_minor": 5
}
