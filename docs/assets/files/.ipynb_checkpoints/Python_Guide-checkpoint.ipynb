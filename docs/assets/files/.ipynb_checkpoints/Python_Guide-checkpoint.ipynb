{
 "cells": [
  {
   "cell_type": "markdown",
   "id": "e15e2a40",
   "metadata": {},
   "source": [
    "# Basic Syntax"
   ]
  },
  {
   "cell_type": "markdown",
   "id": "f5e8ed43",
   "metadata": {},
   "source": [
    "Cells containing expressions will evaluate when the cell is run. \n",
    "To evaluate the following cell, click on it and press shift and enter at the same time.\n",
    "Try to predict what the expression is equal to, \n",
    "which will also be the output of the cell."
   ]
  },
  {
   "cell_type": "code",
   "execution_count": 1,
   "id": "b499df5d",
   "metadata": {},
   "outputs": [
    {
     "data": {
      "text/plain": [
       "4"
      ]
     },
     "execution_count": 1,
     "metadata": {},
     "output_type": "execute_result"
    }
   ],
   "source": [
    "2 + 2"
   ]
  },
  {
   "cell_type": "markdown",
   "id": "c057a6bd",
   "metadata": {},
   "source": [
    "Variables allow us to store data temporarily. \n",
    "This data can take many forms, but one of the simplest forms is a number. \n",
    "See how we can set a variable `x` equal to one in the following cell"
   ]
  },
  {
   "cell_type": "code",
   "execution_count": 2,
   "id": "8ef64321",
   "metadata": {},
   "outputs": [],
   "source": [
    "x = 1"
   ]
  },
  {
   "cell_type": "markdown",
   "id": "bf142b68",
   "metadata": {},
   "source": [
    "Now that we have defined our variable, we can use it elsewhere in our code.\n",
    "The next cell contains an expression using `x`. \n",
    "By default in jupyter noteboks, \n",
    "a cell with a single evaluation or ending with a \n",
    "variable will automatically print the result of the \n",
    "evaluation or the value stored in the variable.\n",
    "Try to predict the output of the following cell."
   ]
  },
  {
   "cell_type": "code",
   "execution_count": 3,
   "id": "1c3328d4",
   "metadata": {},
   "outputs": [
    {
     "data": {
      "text/plain": [
       "5"
      ]
     },
     "execution_count": 3,
     "metadata": {},
     "output_type": "execute_result"
    }
   ],
   "source": [
    "x + 4"
   ]
  },
  {
   "cell_type": "markdown",
   "id": "daaeadb4",
   "metadata": {},
   "source": [
    "We can also make sure something prints using the function `print()`"
   ]
  },
  {
   "cell_type": "code",
   "execution_count": 4,
   "id": "9d1e4c0d",
   "metadata": {},
   "outputs": [
    {
     "name": "stdout",
     "output_type": "stream",
     "text": [
      "5\n"
     ]
    }
   ],
   "source": [
    "print(x + 4)"
   ]
  },
  {
   "cell_type": "markdown",
   "id": "17f9b364",
   "metadata": {},
   "source": [
    "We can change variables after they are first defined. \n",
    "The next cell changes the value of `x`, \n",
    "and then uses it in another expression. \n",
    "Try to predict the output of the following cell."
   ]
  },
  {
   "cell_type": "code",
   "execution_count": 5,
   "id": "0c5e0a89",
   "metadata": {},
   "outputs": [
    {
     "name": "stdout",
     "output_type": "stream",
     "text": [
      "3\n",
      "15\n"
     ]
    }
   ],
   "source": [
    "x = 3\n",
    "print(x)\n",
    "print(x*5)"
   ]
  },
  {
   "cell_type": "markdown",
   "id": "b0285333",
   "metadata": {},
   "source": [
    "We can also define new variables using previous variables. \n",
    "Try to predict the output of the following cell."
   ]
  },
  {
   "cell_type": "code",
   "execution_count": 6,
   "id": "09cc4d0c",
   "metadata": {},
   "outputs": [
    {
     "name": "stdout",
     "output_type": "stream",
     "text": [
      "5\n",
      "8\n"
     ]
    }
   ],
   "source": [
    "y = x + 2\n",
    "print(y)\n",
    "print(y + x)"
   ]
  },
  {
   "cell_type": "markdown",
   "id": "298e2a8d",
   "metadata": {},
   "source": [
    "We defined a new variable \"y\", which is equal to \"5\". Notice that \"x\" remembered its value (3) from the previous evaluation. \n",
    "\n",
    "We can also store other kinds of data in variables. \n",
    "For example we can store letters in a variable, \n",
    "and when we do so this kind of variable is called a string or `str` in python. \n",
    "The next cell defines a string variable.\n",
    "I use single quotes `'` to get python to recognize my string, \n",
    "but I could have used double quotes `\"` for the same result."
   ]
  },
  {
   "cell_type": "code",
   "execution_count": 7,
   "id": "8147056e",
   "metadata": {},
   "outputs": [
    {
     "name": "stdout",
     "output_type": "stream",
     "text": [
      "RowanAndLogan\n"
     ]
    }
   ],
   "source": [
    "authorName = 'RowanAndLogan'\n",
    "print(authorName)"
   ]
  },
  {
   "cell_type": "markdown",
   "id": "c2d870b8",
   "metadata": {},
   "source": [
    "Another important kind of data that can be stored in variables are lists. \n",
    "The next cell defines a list of four numbers. \n",
    "Notice the use of brackets `[ ]`."
   ]
  },
  {
   "cell_type": "code",
   "execution_count": 8,
   "id": "45895ad8",
   "metadata": {},
   "outputs": [
    {
     "name": "stdout",
     "output_type": "stream",
     "text": [
      "[4, 0, 2.5, 10]\n"
     ]
    }
   ],
   "source": [
    "numberList = [4, 0, 2.5, 10]\n",
    "print(numberList)"
   ]
  },
  {
   "cell_type": "markdown",
   "id": "0835db09",
   "metadata": {},
   "source": [
    "There is also a very useful python package called \"numpy\"\n",
    "which can turn lists into \"numpy arrays\". It turns out \n",
    "that numpy arrays can be more easily used for science and math tasks\n",
    "than the basic lists, so we will use them for the rest of this tutorial.\n",
    "\n",
    "I start by `import`ing the package numpy and immediately renaming it to \n",
    "`np`. I then use this new name to ask for it's function to change \n",
    "`numberList` into `numberArray`."
   ]
  },
  {
   "cell_type": "code",
   "execution_count": 9,
   "id": "b1156535",
   "metadata": {},
   "outputs": [
    {
     "name": "stdout",
     "output_type": "stream",
     "text": [
      "[ 4.   0.   2.5 10. ]\n"
     ]
    }
   ],
   "source": [
    "import numpy as np\n",
    "numberArray = np.array(numberList)\n",
    "print(numberArray)"
   ]
  },
  {
   "cell_type": "markdown",
   "id": "2d5190b6",
   "metadata": {},
   "source": [
    "I can access specific items in my array using \"slicing\". \n",
    "For instance, if I ask for the 0th item in numberArray, \n",
    "python returns the 4. \n",
    "(please note that python, unlike Mathematica, starts all of its arrays\n",
    "with 0 and count up from there.)."
   ]
  },
  {
   "cell_type": "code",
   "execution_count": 10,
   "id": "2b141c18",
   "metadata": {},
   "outputs": [
    {
     "data": {
      "text/plain": [
       "4.0"
      ]
     },
     "execution_count": 10,
     "metadata": {},
     "output_type": "execute_result"
    }
   ],
   "source": [
    "numberArray[0]"
   ]
  },
  {
   "cell_type": "markdown",
   "id": "a281670f",
   "metadata": {},
   "source": [
    "Now it's your turn to try. Place an integer in the brackets in the following cell to try to get the output of \"10\"."
   ]
  },
  {
   "cell_type": "code",
   "execution_count": 11,
   "id": "c401fd75",
   "metadata": {},
   "outputs": [
    {
     "ename": "SyntaxError",
     "evalue": "invalid syntax (722523087.py, line 1)",
     "output_type": "error",
     "traceback": [
      "\u001b[0;36m  File \u001b[0;32m\"/var/folders/4t/fzjtnyzn477dfj6zr3b15_nm0000gn/T/ipykernel_21911/722523087.py\"\u001b[0;36m, line \u001b[0;32m1\u001b[0m\n\u001b[0;31m    numberArray[]\u001b[0m\n\u001b[0m                ^\u001b[0m\n\u001b[0;31mSyntaxError\u001b[0m\u001b[0;31m:\u001b[0m invalid syntax\n"
     ]
    }
   ],
   "source": [
    "numberArray[]"
   ]
  },
  {
   "cell_type": "markdown",
   "id": "c8304158",
   "metadata": {},
   "source": [
    "Numpy will treat arrays in many ways like vectors. \n",
    "This means, with the right functions, we can use various vector transformations.\n",
    "For instance, we could calculate the dot product of numberArray with itself.\n",
    "\n",
    "You can find all the functions that numpy builds in to work with\n",
    "numpy arrays here: https://numpy.org/doc/stable/reference/index.html#reference"
   ]
  },
  {
   "cell_type": "code",
   "execution_count": null,
   "id": "089907b1",
   "metadata": {},
   "outputs": [],
   "source": [
    "np.dot(numberArray, numberArray)"
   ]
  },
  {
   "cell_type": "markdown",
   "id": "25f10e17",
   "metadata": {},
   "source": [
    "We can manually write out this same calculation, as seen in the following cell. Try to fill in the missing integer. Note that \"taking to the power of\" in python is shown using the double star `**`."
   ]
  },
  {
   "cell_type": "code",
   "execution_count": 12,
   "id": "e53c2adf",
   "metadata": {},
   "outputs": [
    {
     "ename": "SyntaxError",
     "evalue": "invalid syntax (240011646.py, line 1)",
     "output_type": "error",
     "traceback": [
      "\u001b[0;36m  File \u001b[0;32m\"/var/folders/4t/fzjtnyzn477dfj6zr3b15_nm0000gn/T/ipykernel_21911/240011646.py\"\u001b[0;36m, line \u001b[0;32m1\u001b[0m\n\u001b[0;31m    numberArray[0]**2 + numberArray[1]**2 + numberArray[ ]**2 + numberArray[3]**2\u001b[0m\n\u001b[0m                                                         ^\u001b[0m\n\u001b[0;31mSyntaxError\u001b[0m\u001b[0;31m:\u001b[0m invalid syntax\n"
     ]
    }
   ],
   "source": [
    "numberArray[0]**2 + numberArray[1]**2 + numberArray[ ]**2 + numberArray[3]**2"
   ]
  },
  {
   "cell_type": "markdown",
   "id": "7b20ea7f",
   "metadata": {},
   "source": [
    "# Operations\n",
    "\n",
    "## Arithmetic\n",
    "\n",
    "Python can easily be used for basic math operations just like any other basic scientific calculator. Try running the following cells that contain operations"
   ]
  },
  {
   "cell_type": "markdown",
   "id": "88f0620a",
   "metadata": {},
   "source": [
    "Addition"
   ]
  },
  {
   "cell_type": "code",
   "execution_count": 13,
   "id": "f606c1a3",
   "metadata": {},
   "outputs": [
    {
     "data": {
      "text/plain": [
       "12"
      ]
     },
     "execution_count": 13,
     "metadata": {},
     "output_type": "execute_result"
    }
   ],
   "source": [
    "7 + 5"
   ]
  },
  {
   "cell_type": "markdown",
   "id": "00d2d8f7",
   "metadata": {},
   "source": [
    "Subtraction"
   ]
  },
  {
   "cell_type": "code",
   "execution_count": 14,
   "id": "be436b59",
   "metadata": {},
   "outputs": [
    {
     "data": {
      "text/plain": [
       "2"
      ]
     },
     "execution_count": 14,
     "metadata": {},
     "output_type": "execute_result"
    }
   ],
   "source": [
    "7 - 5"
   ]
  },
  {
   "cell_type": "markdown",
   "id": "f6355df6",
   "metadata": {},
   "source": [
    "Multiplication"
   ]
  },
  {
   "cell_type": "code",
   "execution_count": 15,
   "id": "d38127ff",
   "metadata": {},
   "outputs": [
    {
     "data": {
      "text/plain": [
       "35"
      ]
     },
     "execution_count": 15,
     "metadata": {},
     "output_type": "execute_result"
    }
   ],
   "source": [
    "7 * 5"
   ]
  },
  {
   "cell_type": "markdown",
   "id": "5692fa8c",
   "metadata": {},
   "source": [
    "Division"
   ]
  },
  {
   "cell_type": "code",
   "execution_count": 16,
   "id": "7ba5fd24",
   "metadata": {},
   "outputs": [
    {
     "data": {
      "text/plain": [
       "1.4"
      ]
     },
     "execution_count": 16,
     "metadata": {},
     "output_type": "execute_result"
    }
   ],
   "source": [
    "7/5"
   ]
  },
  {
   "cell_type": "markdown",
   "id": "150a86bb",
   "metadata": {},
   "source": [
    "Exponents"
   ]
  },
  {
   "cell_type": "code",
   "execution_count": 17,
   "id": "d9e575c4",
   "metadata": {},
   "outputs": [
    {
     "data": {
      "text/plain": [
       "16807"
      ]
     },
     "execution_count": 17,
     "metadata": {},
     "output_type": "execute_result"
    }
   ],
   "source": [
    "7**5"
   ]
  },
  {
   "cell_type": "markdown",
   "id": "fd613f4c",
   "metadata": {},
   "source": [
    "Parentheses can be used to specify an order of operations. Try to predict the output of both the following cells:"
   ]
  },
  {
   "cell_type": "code",
   "execution_count": 18,
   "id": "04c907d8",
   "metadata": {},
   "outputs": [
    {
     "data": {
      "text/plain": [
       "10"
      ]
     },
     "execution_count": 18,
     "metadata": {},
     "output_type": "execute_result"
    }
   ],
   "source": [
    "(2 + 3)*(1 + 1)"
   ]
  },
  {
   "cell_type": "code",
   "execution_count": 19,
   "id": "ab625ea6",
   "metadata": {},
   "outputs": [
    {
     "data": {
      "text/plain": [
       "6"
      ]
     },
     "execution_count": 19,
     "metadata": {},
     "output_type": "execute_result"
    }
   ],
   "source": [
    "2 + (3*1) + 1"
   ]
  },
  {
   "cell_type": "markdown",
   "id": "e69d29fc",
   "metadata": {},
   "source": [
    "Parentheses can also be used to specify what is in an exponential. Try to predict the output of both the following cells:"
   ]
  },
  {
   "cell_type": "code",
   "execution_count": 20,
   "id": "072e8a1f",
   "metadata": {},
   "outputs": [
    {
     "data": {
      "text/plain": [
       "8"
      ]
     },
     "execution_count": 20,
     "metadata": {},
     "output_type": "execute_result"
    }
   ],
   "source": [
    "2**(2 + 1)"
   ]
  },
  {
   "cell_type": "code",
   "execution_count": 21,
   "id": "04138ba4",
   "metadata": {},
   "outputs": [
    {
     "data": {
      "text/plain": [
       "5"
      ]
     },
     "execution_count": 21,
     "metadata": {},
     "output_type": "execute_result"
    }
   ],
   "source": [
    "(2**2) + 1"
   ]
  },
  {
   "cell_type": "markdown",
   "id": "f3ea1c36",
   "metadata": {},
   "source": [
    "## Sympy and Calculus\n",
    "\n",
    "Unfortunately, when it comes to more advanced math such derivatives or integrals in calculus, basic python leaves a lot to be desired. Fortunately, there's a package for that! Sympy, aka \"symbolic python\" has a lot of really great tools to facilitiate more advanced math. This section of the tutorial will focus on setting up and using sympy. More instructions can be found here: https://docs.sympy.org/latest/index.html and here: https://docs.sympy.org/latest/tutorial/calculus.html\n",
    "\n",
    "First, we'll import and rename sympy to `sy`."
   ]
  },
  {
   "cell_type": "code",
   "execution_count": 22,
   "id": "54b12b85",
   "metadata": {},
   "outputs": [],
   "source": [
    "import sympy as sy"
   ]
  },
  {
   "cell_type": "markdown",
   "id": "421012e3",
   "metadata": {},
   "source": [
    "Some constants come pre-set:"
   ]
  },
  {
   "cell_type": "code",
   "execution_count": 23,
   "id": "03ccee45",
   "metadata": {},
   "outputs": [
    {
     "name": "stdout",
     "output_type": "stream",
     "text": [
      "2.71828182845905 1.0*I 3.14159265358979\n"
     ]
    }
   ],
   "source": [
    "print(sy.N(sy.E), sy.N(sy.I), sy.N(sy.pi)) #sy.N forces the value to a number"
   ]
  },
  {
   "cell_type": "markdown",
   "id": "d8737600",
   "metadata": {},
   "source": [
    "Now we can do factorials and logarithms:"
   ]
  },
  {
   "cell_type": "code",
   "execution_count": 24,
   "id": "fe4fe45d",
   "metadata": {},
   "outputs": [
    {
     "data": {
      "text/latex": [
       "$\\displaystyle 5040$"
      ],
      "text/plain": [
       "5040"
      ]
     },
     "execution_count": 24,
     "metadata": {},
     "output_type": "execute_result"
    }
   ],
   "source": [
    "sy.factorial(7)"
   ]
  },
  {
   "cell_type": "code",
   "execution_count": 25,
   "id": "884595cc",
   "metadata": {},
   "outputs": [
    {
     "data": {
      "text/latex": [
       "$\\displaystyle \\log{\\left(7 \\right)}$"
      ],
      "text/plain": [
       "log(7)"
      ]
     },
     "execution_count": 25,
     "metadata": {},
     "output_type": "execute_result"
    }
   ],
   "source": [
    "sy.log(7)"
   ]
  },
  {
   "cell_type": "markdown",
   "id": "6fc36946",
   "metadata": {},
   "source": [
    "Sometimes you'll want a numerical answer, to make sympy give you one, use the `N` function:"
   ]
  },
  {
   "cell_type": "code",
   "execution_count": 26,
   "id": "dc8f1d95",
   "metadata": {},
   "outputs": [
    {
     "data": {
      "text/latex": [
       "$\\displaystyle 1.94591014905531$"
      ],
      "text/plain": [
       "1.94591014905531"
      ]
     },
     "execution_count": 26,
     "metadata": {},
     "output_type": "execute_result"
    }
   ],
   "source": [
    "sy.N(sy.log(7))"
   ]
  },
  {
   "cell_type": "markdown",
   "id": "4e83d320",
   "metadata": {},
   "source": [
    "Sympy assumes the natural logarithm i.e. `base = sy.e`; to get a different one set a different `base` as the second argument to the function:"
   ]
  },
  {
   "cell_type": "code",
   "execution_count": 27,
   "id": "d0285f5c",
   "metadata": {},
   "outputs": [
    {
     "data": {
      "text/latex": [
       "$\\displaystyle 1$"
      ],
      "text/plain": [
       "1"
      ]
     },
     "execution_count": 27,
     "metadata": {},
     "output_type": "execute_result"
    }
   ],
   "source": [
    "sy.log(7, 7)"
   ]
  },
  {
   "cell_type": "markdown",
   "id": "58e80a2d",
   "metadata": {},
   "source": [
    "To start to do calculus, we first need to set up some sympy variables. These are a bit different from regular python variables and so it's important that all your variables are clearly defined! Here, we create **sympy** variables `x`, `y`, and `z`, and store them in **python** variables with the same names."
   ]
  },
  {
   "cell_type": "code",
   "execution_count": 28,
   "id": "6fcdd8e7",
   "metadata": {},
   "outputs": [],
   "source": [
    "x, y = sy.symbols('x y') "
   ]
  },
  {
   "cell_type": "markdown",
   "id": "3280d0a7",
   "metadata": {},
   "source": [
    "Now we can use these sympy variables to do symbolic math; if these were simply python variables python would require the variables to have numerical values to do any math with them."
   ]
  },
  {
   "cell_type": "code",
   "execution_count": 29,
   "id": "d9ee19ef",
   "metadata": {},
   "outputs": [
    {
     "data": {
      "text/latex": [
       "$\\displaystyle 2 x^{2}$"
      ],
      "text/plain": [
       "2*x**2"
      ]
     },
     "execution_count": 29,
     "metadata": {},
     "output_type": "execute_result"
    }
   ],
   "source": [
    "2*x**2 #notice the pretty printing"
   ]
  },
  {
   "cell_type": "markdown",
   "id": "bdb8188d",
   "metadata": {},
   "source": [
    "To take the derivative, we use the sympy function `diff`. "
   ]
  },
  {
   "cell_type": "code",
   "execution_count": 30,
   "id": "7bf1d76b",
   "metadata": {},
   "outputs": [
    {
     "data": {
      "text/latex": [
       "$\\displaystyle 4 x$"
      ],
      "text/plain": [
       "4*x"
      ]
     },
     "execution_count": 30,
     "metadata": {},
     "output_type": "execute_result"
    }
   ],
   "source": [
    "sy.diff(2*x**2, x)"
   ]
  },
  {
   "cell_type": "markdown",
   "id": "28706f99",
   "metadata": {},
   "source": [
    "Notice that it doesn't work if I don't explicitly multiply:"
   ]
  },
  {
   "cell_type": "code",
   "execution_count": 31,
   "id": "94e1fa20",
   "metadata": {},
   "outputs": [
    {
     "ename": "SyntaxError",
     "evalue": "invalid syntax (396577840.py, line 1)",
     "output_type": "error",
     "traceback": [
      "\u001b[0;36m  File \u001b[0;32m\"/var/folders/4t/fzjtnyzn477dfj6zr3b15_nm0000gn/T/ipykernel_21911/396577840.py\"\u001b[0;36m, line \u001b[0;32m1\u001b[0m\n\u001b[0;31m    sy.diff(2x**2, x)\u001b[0m\n\u001b[0m             ^\u001b[0m\n\u001b[0;31mSyntaxError\u001b[0m\u001b[0;31m:\u001b[0m invalid syntax\n"
     ]
    }
   ],
   "source": [
    "sy.diff(2x**2, x)"
   ]
  },
  {
   "cell_type": "markdown",
   "id": "73bb56ad",
   "metadata": {},
   "source": [
    "Now predict the output of the following cell:"
   ]
  },
  {
   "cell_type": "code",
   "execution_count": 32,
   "id": "df079562",
   "metadata": {},
   "outputs": [
    {
     "data": {
      "text/latex": [
       "$\\displaystyle 30$"
      ],
      "text/plain": [
       "30"
      ]
     },
     "execution_count": 32,
     "metadata": {},
     "output_type": "execute_result"
    }
   ],
   "source": [
    "sy.diff(30*y, y)"
   ]
  },
  {
   "cell_type": "markdown",
   "id": "72f1672f",
   "metadata": {},
   "source": [
    "You can see that for a simple derivative like the one above: \n",
    "the function that you want to take the derivative of \n",
    "is the first argument of the function, \n",
    "while the variable that you are taking the derivative with \n",
    "respect to is second argument.\n",
    "\n",
    "You can even take the second derivative of something. \n",
    "Try to predict the output of the following cell:"
   ]
  },
  {
   "cell_type": "code",
   "execution_count": 33,
   "id": "8af6b2df",
   "metadata": {},
   "outputs": [
    {
     "data": {
      "text/latex": [
       "$\\displaystyle 18 x$"
      ],
      "text/plain": [
       "18*x"
      ]
     },
     "execution_count": 33,
     "metadata": {},
     "output_type": "execute_result"
    }
   ],
   "source": [
    "sy.diff(3*x**3, x, 2)"
   ]
  },
  {
   "cell_type": "code",
   "execution_count": 34,
   "id": "1290a5ae",
   "metadata": {},
   "outputs": [
    {
     "data": {
      "text/latex": [
       "$\\displaystyle 5 y$"
      ],
      "text/plain": [
       "5*y"
      ]
     },
     "execution_count": 34,
     "metadata": {},
     "output_type": "execute_result"
    }
   ],
   "source": [
    "sy.diff(5*x*y, x) \n",
    "#you can think of this on some level as taking a partial derivative \n",
    "#of the function with respect to x"
   ]
  },
  {
   "cell_type": "markdown",
   "id": "a38098c2",
   "metadata": {},
   "source": [
    "Sympy also lets you integrate functions. Try running the following cell:"
   ]
  },
  {
   "cell_type": "code",
   "execution_count": 35,
   "id": "4aefd8c6",
   "metadata": {},
   "outputs": [
    {
     "data": {
      "text/latex": [
       "$\\displaystyle \\frac{1}{2}$"
      ],
      "text/plain": [
       "1/2"
      ]
     },
     "execution_count": 35,
     "metadata": {},
     "output_type": "execute_result"
    }
   ],
   "source": [
    "sy.integrate(x, (x, 0, 1))"
   ]
  },
  {
   "cell_type": "markdown",
   "id": "4f2854d9",
   "metadata": {},
   "source": [
    "To integrate to infinity use the sympy infinity object, `oo` (two lowercase oh's)."
   ]
  },
  {
   "cell_type": "code",
   "execution_count": 36,
   "id": "eacb8ea5",
   "metadata": {},
   "outputs": [
    {
     "data": {
      "text/latex": [
       "$\\displaystyle \\frac{\\sqrt{\\pi}}{2}$"
      ],
      "text/plain": [
       "sqrt(pi)/2"
      ]
     },
     "execution_count": 36,
     "metadata": {},
     "output_type": "execute_result"
    }
   ],
   "source": [
    "sy.integrate(sy.E**(-x**2), (x, 0, sy.oo))"
   ]
  },
  {
   "cell_type": "markdown",
   "id": "5719a34a",
   "metadata": {},
   "source": [
    "Try to predict the output of the following cell:"
   ]
  },
  {
   "cell_type": "code",
   "execution_count": 37,
   "id": "25654f66",
   "metadata": {},
   "outputs": [
    {
     "data": {
      "text/latex": [
       "$\\displaystyle \\frac{y^{3}}{3}$"
      ],
      "text/plain": [
       "y**3/3"
      ]
     },
     "execution_count": 37,
     "metadata": {},
     "output_type": "execute_result"
    }
   ],
   "source": [
    "sy.integrate(x**2, (x, 0, y))"
   ]
  },
  {
   "cell_type": "markdown",
   "id": "fda3bea0",
   "metadata": {},
   "source": [
    "As you can see above: the integrand is first argument of the function, and the variable you are taking the integral over is expressed as the first entity within the inner parentheses `( )` with the lower and upper bounds following.\n",
    "\n",
    "You can also do an indefinite integral:"
   ]
  },
  {
   "cell_type": "code",
   "execution_count": 38,
   "id": "486a6383",
   "metadata": {},
   "outputs": [
    {
     "data": {
      "text/latex": [
       "$\\displaystyle \\frac{x^{3}}{3}$"
      ],
      "text/plain": [
       "x**3/3"
      ]
     },
     "execution_count": 38,
     "metadata": {},
     "output_type": "execute_result"
    }
   ],
   "source": [
    "sy.integrate(x**2, x)"
   ]
  },
  {
   "cell_type": "markdown",
   "id": "f6d761be",
   "metadata": {},
   "source": [
    "There is a handy feature that lets you solve equalities for variables. \n",
    "One thing to be careful of - the symbol `=` \n",
    "in python is specifically used to assign variables, \n",
    "so sympy doesn't use it to note that two expressions are equal to each other.\n",
    "Instead, use the sympy function `Eq()` where the two arguments are two functions \n",
    "that are equal to each other.\n",
    "\n",
    "The following code solves an equation for `x`."
   ]
  },
  {
   "cell_type": "code",
   "execution_count": 39,
   "id": "3bf76d43",
   "metadata": {},
   "outputs": [
    {
     "data": {
      "text/plain": [
       "[3]"
      ]
     },
     "execution_count": 39,
     "metadata": {},
     "output_type": "execute_result"
    }
   ],
   "source": [
    "sy.solve(sy.Eq(5*x, 15), x)"
   ]
  },
  {
   "cell_type": "markdown",
   "id": "98a673e7",
   "metadata": {},
   "source": [
    "Note that the trig functions in sympy (and also numpy) assume you're in radians, not degrees:"
   ]
  },
  {
   "cell_type": "code",
   "execution_count": 42,
   "id": "d12fdfbe",
   "metadata": {},
   "outputs": [
    {
     "data": {
      "text/plain": [
       "[0, 1]"
      ]
     },
     "execution_count": 42,
     "metadata": {},
     "output_type": "execute_result"
    }
   ],
   "source": [
    "[sy.cos(sy.pi/2), sy.sin(sy.pi/2)]"
   ]
  },
  {
   "cell_type": "markdown",
   "id": "6d18ea7f",
   "metadata": {},
   "source": [
    "Numpy is very useful for statistical calculations. Here we have defined a list of steps that someone takes while walking their dog each day:"
   ]
  },
  {
   "cell_type": "code",
   "execution_count": 43,
   "id": "6868cf49",
   "metadata": {},
   "outputs": [],
   "source": [
    "stepsWalked = np.array([5108, 6576, 2363, 1247, 6816, 3289, 2764, 2687, 2782, 5020])"
   ]
  },
  {
   "cell_type": "markdown",
   "id": "ee799b1b",
   "metadata": {},
   "source": [
    "We can take the mean using numpy to find the average steps walked over a 10 day period:"
   ]
  },
  {
   "cell_type": "code",
   "execution_count": 44,
   "id": "7ee8fc29",
   "metadata": {},
   "outputs": [
    {
     "data": {
      "text/plain": [
       "3865.2"
      ]
     },
     "execution_count": 44,
     "metadata": {},
     "output_type": "execute_result"
    }
   ],
   "source": [
    "np.mean(stepsWalked)"
   ]
  },
  {
   "cell_type": "markdown",
   "id": "657f8bdf",
   "metadata": {},
   "source": [
    "The total:"
   ]
  },
  {
   "cell_type": "code",
   "execution_count": 47,
   "id": "146fb991",
   "metadata": {},
   "outputs": [
    {
     "data": {
      "text/plain": [
       "38652"
      ]
     },
     "execution_count": 47,
     "metadata": {},
     "output_type": "execute_result"
    }
   ],
   "source": [
    "np.sum(stepsWalked)"
   ]
  },
  {
   "cell_type": "markdown",
   "id": "d3f70c4e",
   "metadata": {},
   "source": [
    "Standard deviation and variance:"
   ]
  },
  {
   "cell_type": "code",
   "execution_count": 48,
   "id": "29789b2e",
   "metadata": {},
   "outputs": [
    {
     "name": "stdout",
     "output_type": "stream",
     "text": [
      "1793.0831994082148 3215147.36\n"
     ]
    }
   ],
   "source": [
    "print(np.std(stepsWalked), np.var(stepsWalked))"
   ]
  },
  {
   "cell_type": "markdown",
   "id": "bd74d101",
   "metadata": {},
   "source": [
    "In python, you have the wide ability to define your own functions. \n",
    "These functions can use numpy, sympy, basic python, and any other\n",
    "packages you have access too. These examples will focus on using\n",
    "sympy to define symbolic math functions, but please feel free to\n",
    "experiment!\n",
    "\n",
    "The most important elements of a python function are its arguments\n",
    "and what it returns. Below, I define a function `f`, which takes an argument `a`\n",
    "and which returns `5 a`. I also include a \"docstring\" between two sets of \n",
    "triple quotation marks `\"\"\"` which serve to help readers understand what my function\n",
    "does. Docstrings in functions are not required, but are **highly** recommended."
   ]
  },
  {
   "cell_type": "code",
   "execution_count": 49,
   "id": "cd9854a4",
   "metadata": {},
   "outputs": [],
   "source": [
    "def f(a):\n",
    "    \"\"\"\n",
    "    multiply the input by 5\n",
    "    \n",
    "    Parameters\n",
    "    ----------\n",
    "    a : float or sympy symbol\n",
    "        the number or variable to be multiplied\n",
    "\n",
    "    Returns\n",
    "    -------\n",
    "    float or sympy symbol\n",
    "        the input multiplied by 5\n",
    "    \"\"\"\n",
    "    return a*5"
   ]
  },
  {
   "cell_type": "markdown",
   "id": "5938a2e8",
   "metadata": {},
   "source": [
    "We can then use the function f we defined above to determine what happens when x=3 (or any other value you wanted). Run the following cell:"
   ]
  },
  {
   "cell_type": "code",
   "execution_count": 50,
   "id": "75728f37",
   "metadata": {},
   "outputs": [
    {
     "data": {
      "text/plain": [
       "15"
      ]
     },
     "execution_count": 50,
     "metadata": {},
     "output_type": "execute_result"
    }
   ],
   "source": [
    "f(3)"
   ]
  },
  {
   "cell_type": "markdown",
   "id": "3c9b6504",
   "metadata": {},
   "source": [
    "We could also use our function on a sympy symbol:"
   ]
  },
  {
   "cell_type": "code",
   "execution_count": 51,
   "id": "48f99743",
   "metadata": {},
   "outputs": [
    {
     "data": {
      "text/latex": [
       "$\\displaystyle 5 x y$"
      ],
      "text/plain": [
       "5*x*y"
      ]
     },
     "execution_count": 51,
     "metadata": {},
     "output_type": "execute_result"
    }
   ],
   "source": [
    "x, y = sy.symbols('x y') \n",
    "f(x*y)"
   ]
  },
  {
   "cell_type": "markdown",
   "id": "dedc335c",
   "metadata": {},
   "source": [
    "You can also write functions that utilize other functions that you (or others) have already written. Here we define a function g with our previously defined function f inside of it. Run the following cell:"
   ]
  },
  {
   "cell_type": "code",
   "execution_count": 52,
   "id": "3124096a",
   "metadata": {},
   "outputs": [],
   "source": [
    "def g(b):\n",
    "    \"\"\"\n",
    "    run a more complex transformation on an input\n",
    "    \n",
    "    Parameters\n",
    "    ----------\n",
    "    b : float or sympy symbol\n",
    "        the number or variable to be transformed\n",
    "\n",
    "    Returns\n",
    "    -------\n",
    "    float or sympy symbol\n",
    "        the output\n",
    "    \"\"\"\n",
    "    return b*f(b)"
   ]
  },
  {
   "cell_type": "markdown",
   "id": "16cf6db9",
   "metadata": {},
   "source": [
    "Can you predict the output of the following cell?"
   ]
  },
  {
   "cell_type": "code",
   "execution_count": 53,
   "id": "ebdf3432",
   "metadata": {},
   "outputs": [
    {
     "data": {
      "text/plain": [
       "20"
      ]
     },
     "execution_count": 53,
     "metadata": {},
     "output_type": "execute_result"
    }
   ],
   "source": [
    "g(2)"
   ]
  },
  {
   "cell_type": "markdown",
   "id": "b9ae3753",
   "metadata": {},
   "source": [
    "What about this one?"
   ]
  },
  {
   "cell_type": "code",
   "execution_count": 54,
   "id": "7653bdc7",
   "metadata": {},
   "outputs": [
    {
     "data": {
      "text/latex": [
       "$\\displaystyle 5 x^{2}$"
      ],
      "text/plain": [
       "5*x**2"
      ]
     },
     "execution_count": 54,
     "metadata": {},
     "output_type": "execute_result"
    }
   ],
   "source": [
    "g(x)"
   ]
  },
  {
   "cell_type": "markdown",
   "id": "d9694fea",
   "metadata": {},
   "source": [
    "# Loops\n",
    "\n",
    "One of the most important and useful features of python (or any coding language) is the ability to do a series of calculations in a row. These are called loops.\n",
    "There are a few types of loops in python, but we're going to focus on the `for` loop.\n",
    "This will use an array as a basis for carrying out a calculation once for each item in\n",
    "the array, until there are no more items.\n",
    "\n",
    "Let's use numpy to create an array with entries from 0 to 49 \n",
    "(remember that python always starts counting from zero!).\n"
   ]
  },
  {
   "cell_type": "code",
   "execution_count": 56,
   "id": "dfc88a4f",
   "metadata": {},
   "outputs": [
    {
     "data": {
      "text/plain": [
       "array([ 0,  1,  2,  3,  4,  5,  6,  7,  8,  9, 10, 11, 12, 13, 14, 15, 16,\n",
       "       17, 18, 19, 20, 21, 22, 23, 24, 25, 26, 27, 28, 29, 30, 31, 32, 33,\n",
       "       34, 35, 36, 37, 38, 39, 40, 41, 42, 43, 44, 45, 46, 47, 48, 49])"
      ]
     },
     "execution_count": 56,
     "metadata": {},
     "output_type": "execute_result"
    }
   ],
   "source": [
    "a = np.arange(50)\n",
    "a"
   ]
  },
  {
   "cell_type": "markdown",
   "id": "991f769f",
   "metadata": {},
   "source": [
    "Now I'll add all of them up:"
   ]
  },
  {
   "cell_type": "code",
   "execution_count": 57,
   "id": "2fe39525",
   "metadata": {},
   "outputs": [
    {
     "name": "stdout",
     "output_type": "stream",
     "text": [
      "0\n",
      "1\n",
      "3\n",
      "6\n",
      "10\n",
      "15\n",
      "21\n",
      "28\n",
      "36\n",
      "45\n",
      "55\n",
      "66\n",
      "78\n",
      "91\n",
      "105\n",
      "120\n",
      "136\n",
      "153\n",
      "171\n",
      "190\n",
      "210\n",
      "231\n",
      "253\n",
      "276\n",
      "300\n",
      "325\n",
      "351\n",
      "378\n",
      "406\n",
      "435\n",
      "465\n",
      "496\n",
      "528\n",
      "561\n",
      "595\n",
      "630\n",
      "666\n",
      "703\n",
      "741\n",
      "780\n",
      "820\n",
      "861\n",
      "903\n",
      "946\n",
      "990\n",
      "1035\n",
      "1081\n",
      "1128\n",
      "1176\n",
      "1225\n"
     ]
    }
   ],
   "source": [
    "k = 0\n",
    "for i in a:\n",
    "    k += i\n",
    "    print(k)"
   ]
  },
  {
   "cell_type": "markdown",
   "id": "4a020144",
   "metadata": {},
   "source": [
    "Checking that my total is correct:"
   ]
  },
  {
   "cell_type": "code",
   "execution_count": 58,
   "id": "2f1d1475",
   "metadata": {},
   "outputs": [
    {
     "name": "stdout",
     "output_type": "stream",
     "text": [
      "1225\n",
      "1225\n"
     ]
    }
   ],
   "source": [
    "print(k)\n",
    "print(np.sum(a))"
   ]
  },
  {
   "cell_type": "markdown",
   "id": "b3c5563f",
   "metadata": {},
   "source": [
    "# Conditionals\n",
    "\n",
    "You will also frequently use conditionals in this class. \n",
    "The basic idea behind conditionals is that you check IF something\n",
    "is true or not and based off that determination do one action or another. \n",
    "Try and predict the outcome of the below cell \n",
    "(hint: the first line contains the check, \n",
    "the second is what happens if true, and the third is what happens if false."
   ]
  },
  {
   "cell_type": "code",
   "execution_count": 60,
   "id": "dba148fc",
   "metadata": {},
   "outputs": [
    {
     "name": "stdout",
     "output_type": "stream",
     "text": [
      "y is greater than or equal to x\n"
     ]
    }
   ],
   "source": [
    "a = 1\n",
    "b = 2\n",
    "\n",
    "if a > b:\n",
    "    print('x is greater than y')\n",
    "else: \n",
    "    print('y is greater than or equal to x')"
   ]
  },
  {
   "cell_type": "markdown",
   "id": "9090c74c",
   "metadata": {},
   "source": [
    "# Visualization and Plotting\n",
    "\n",
    "The python package matplotlib is very good at visualizing your data and results. \n",
    "The two most common ways that we will do this in Pchem and Qchem are through scatter plots (mostly with numpy) and line plots (with sympy, where the matplotlib is more hidden).\n",
    "\n",
    "For a line plot example, let's generate a plot of the sine function from theta equals 0 to theta equals 2 pi. Run the following code and then try and change the theta values plotted. (Find more info about the plot function here: https://docs.sympy.org/latest/modules/plotting.html#plotting-function-reference)"
   ]
  },
  {
   "cell_type": "code",
   "execution_count": 74,
   "id": "ca184687",
   "metadata": {},
   "outputs": [
    {
     "data": {
      "image/png": "[encoded data removed]",
      "text/plain": [
       "<Figure size 432x288 with 1 Axes>"
      ]
     },
     "metadata": {
      "needs_background": "light"
     },
     "output_type": "display_data"
    },
    {
     "data": {
      "text/plain": [
       "<sympy.plotting.plot.Plot at 0x7f94e62d26d0>"
      ]
     },
     "execution_count": 74,
     "metadata": {},
     "output_type": "execute_result"
    }
   ],
   "source": [
    "theta = sy.Symbol('theta') #capital S for just 1 symbol\n",
    "sy.plotting.plot(sy.sin(theta), (theta, 0, 2*sy.pi), ylabel=r'$\\sin(\\theta)$', xlabel=r'$\\theta$') \n",
    "#r in front of a string on line 2 lets me use latex to get nice math symbols\n"
   ]
  },
  {
   "cell_type": "markdown",
   "id": "d98c73d8",
   "metadata": {},
   "source": [
    "We can also plot multiple functions:"
   ]
  },
  {
   "cell_type": "code",
   "execution_count": 78,
   "id": "befd1238",
   "metadata": {},
   "outputs": [
    {
     "data": {
      "image/png": "[encoded data removed]",
      "text/plain": [
       "<Figure size 432x288 with 1 Axes>"
      ]
     },
     "metadata": {
      "needs_background": "light"
     },
     "output_type": "display_data"
    },
    {
     "data": {
      "text/plain": [
       "<sympy.plotting.plot.Plot at 0x7f94e60bd790>"
      ]
     },
     "execution_count": 78,
     "metadata": {},
     "output_type": "execute_result"
    }
   ],
   "source": [
    "theta = sy.Symbol('theta') #capital S for just 1 symbol\n",
    "sy.plotting.plot(sy.sin(theta), sy.cos(theta), (theta, 0, 2*sy.pi), \n",
    "                 legend=True, ylabel=r'$f(\\theta)$', xlabel=r'$\\theta$') \n",
    "#r in front of a string on line 2 lets me use latex to get nice math symbols\n"
   ]
  },
  {
   "cell_type": "markdown",
   "id": "8db6c1d0",
   "metadata": {},
   "source": [
    "And we can change the limits:"
   ]
  },
  {
   "cell_type": "code",
   "execution_count": 81,
   "id": "3883a680",
   "metadata": {},
   "outputs": [
    {
     "data": {
      "image/png": "[encoded data removed]",
      "text/plain": [
       "<Figure size 432x288 with 1 Axes>"
      ]
     },
     "metadata": {
      "needs_background": "light"
     },
     "output_type": "display_data"
    },
    {
     "data": {
      "text/plain": [
       "<sympy.plotting.plot.Plot at 0x7f94e6036430>"
      ]
     },
     "execution_count": 81,
     "metadata": {},
     "output_type": "execute_result"
    }
   ],
   "source": [
    "theta = sy.Symbol('theta') #capital S for just 1 symbol\n",
    "sy.plotting.plot(sy.sin(theta), sy.cos(theta), (theta, 0, 2*sy.pi), \n",
    "                 legend=True, ylabel=r'$f(\\theta)$', xlabel=r'$\\theta$',\n",
    "                 ylim=(-2, 2))\n",
    "#r in front of a string on line 2 lets me use latex to get nice math symbols\n"
   ]
  },
  {
   "cell_type": "markdown",
   "id": "993dc2bc",
   "metadata": {},
   "source": [
    "To generate a scatterplot, we will need to use matplotlib more explicitly. \n",
    "Let's import the package then rename it to `plt`."
   ]
  },
  {
   "cell_type": "code",
   "execution_count": 66,
   "id": "b898537c",
   "metadata": {},
   "outputs": [],
   "source": [
    "import matplotlib.pyplot as plt"
   ]
  },
  {
   "cell_type": "markdown",
   "id": "598a548b",
   "metadata": {},
   "source": [
    "To generate a plot, we need to give a numpy array to the `plt.plot` function:"
   ]
  },
  {
   "cell_type": "code",
   "execution_count": 68,
   "id": "7cac5f81",
   "metadata": {},
   "outputs": [
    {
     "data": {
      "text/plain": [
       "[<matplotlib.lines.Line2D at 0x7f94e5f807f0>]"
      ]
     },
     "execution_count": 68,
     "metadata": {},
     "output_type": "execute_result"
    },
    {
     "data": {
      "image/png": "[encoded data removed]",
      "text/plain": [
       "<Figure size 432x288 with 1 Axes>"
      ]
     },
     "metadata": {
      "needs_background": "light"
     },
     "output_type": "display_data"
    }
   ],
   "source": [
    "pagesList = np.array([475, 350, 575, 400, 600, 250, 350])\n",
    "plt.plot(pagesList)"
   ]
  },
  {
   "cell_type": "markdown",
   "id": "bd8556d2",
   "metadata": {},
   "source": [
    "Note that matplotlib automatically did two interesting things. \n",
    "1. it connected the points. For most scatterplots, we don't actually want that.\n",
    "2. it assumed the x-values were the indexes of the data we gave. More often,\n",
    "we'll have some specific x-values in mind. In the next cell, I address both issues."
   ]
  },
  {
   "cell_type": "code",
   "execution_count": 75,
   "id": "7b6a9191",
   "metadata": {},
   "outputs": [
    {
     "data": {
      "text/plain": [
       "Text(0, 0.5, 'Pages')"
      ]
     },
     "execution_count": 75,
     "metadata": {},
     "output_type": "execute_result"
    },
    {
     "data": {
      "image/png": "[encoded data removed]",
      "text/plain": [
       "<Figure size 432x288 with 1 Axes>"
      ]
     },
     "metadata": {
      "needs_background": "light"
     },
     "output_type": "display_data"
    }
   ],
   "source": [
    "weights = np.array([3.1, 2.7, 3.9, 2.9, 5.3, 2.3, 2.5])\n",
    "\n",
    "plt.plot(weights, pagesList, 'ro') #'ro' means red circles, \n",
    "#find more options at the bottom of this page: \n",
    "#https://matplotlib.org/stable/api/_as_gen/matplotlib.pyplot.plot.html\n",
    "plt.xlabel('Weights')\n",
    "plt.ylabel('Pages')\n",
    "#notice that for matplotlib, the x and y labels are separate function calls\n",
    "#but above for sympy plot the x and y labels were arguments to the original plot function"
   ]
  },
  {
   "cell_type": "markdown",
   "id": "11c7b742",
   "metadata": {},
   "source": [
    "We can also plot multiple datasets, though it's easiest if they share the same x-values:"
   ]
  },
  {
   "cell_type": "code",
   "execution_count": 79,
   "id": "fc0e999d",
   "metadata": {},
   "outputs": [
    {
     "data": {
      "text/plain": [
       "Text(0, 0.5, 'Pages')"
      ]
     },
     "execution_count": 79,
     "metadata": {},
     "output_type": "execute_result"
    },
    {
     "data": {
      "image/png": "[encoded data removed]",
      "text/plain": [
       "<Figure size 432x288 with 1 Axes>"
      ]
     },
     "metadata": {
      "needs_background": "light"
     },
     "output_type": "display_data"
    }
   ],
   "source": [
    "weights = np.array([3.1, 2.7, 3.9, 2.9, 5.3, 2.3, 2.5])\n",
    "pagesList2 = 5*pagesList\n",
    "\n",
    "plt.plot(weights, pagesList, 'ro') #'ro' means red circles, \n",
    "plt.plot(weights, pagesList2, 'go') #'go' means green circles, \n",
    "plt.xlabel('Weights')\n",
    "plt.ylabel('Pages')\n",
    "#notice that for matplotlib, we got a second set of data by doing a second plt.plot()\n",
    "#function call"
   ]
  },
  {
   "cell_type": "markdown",
   "id": "144cddb5",
   "metadata": {},
   "source": [
    "And we can change the limits:"
   ]
  },
  {
   "cell_type": "code",
   "execution_count": 82,
   "id": "908f9745",
   "metadata": {},
   "outputs": [
    {
     "data": {
      "text/plain": [
       "(-3000.0, 5000.0)"
      ]
     },
     "execution_count": 82,
     "metadata": {},
     "output_type": "execute_result"
    },
    {
     "data": {
      "image/png": "[encoded data removed]",
      "text/plain": [
       "<Figure size 432x288 with 1 Axes>"
      ]
     },
     "metadata": {
      "needs_background": "light"
     },
     "output_type": "display_data"
    }
   ],
   "source": [
    "weights = np.array([3.1, 2.7, 3.9, 2.9, 5.3, 2.3, 2.5])\n",
    "pagesList2 = 5*pagesList\n",
    "\n",
    "plt.plot(weights, pagesList, 'ro') #'ro' means red circles, \n",
    "plt.plot(weights, pagesList2, 'go') #'go' means green circles, \n",
    "plt.xlabel('Weights')\n",
    "plt.ylabel('Pages')\n",
    "plt.ylim(-3000, 5000)\n",
    "#notice that for matplotlib, we changed the limits though a new function call"
   ]
  },
  {
   "cell_type": "markdown",
   "id": "b577e1d3",
   "metadata": {},
   "source": [
    "# Putting it all together\n",
    "\n",
    "To get a sense of how python can be used in a more chemically minded way \n",
    "and practice all the skills you learned above we will look into energy levels \n",
    "of H-Cl using concepts that you learned in CHEM112. \n",
    "Unless otherwise specified all the formulas and values below \n",
    "come from the Hanson and Green textbook used in CHEM112/114.\n",
    "\n",
    " The total energy of H-Cl can be broken down into \n",
    " electronic, vibrational, rotational, and translational \n",
    " energy components. These energy levels are given below:\n",
    " \n",
    " add latex for equations later"
   ]
  },
  {
   "cell_type": "markdown",
   "id": "8f65deb7",
   "metadata": {},
   "source": [
    "Try and write functions for each of the above energies \n",
    "(rotational, vibrational, translational,and electronic). \n",
    "Keep in mind the naming of your functions, variables, and constants.\n",
    "\n",
    "Reminders: $\\mu$ is the reduced mass \n",
    "(see McQuarrie or Google for formula), \n",
    "$i$ and $n$ are your energy levels, $d$ is distance, $k_f$ is a force constant.\n",
    "Hint: It might be useful to use functions within functions."
   ]
  },
  {
   "cell_type": "code",
   "execution_count": null,
   "id": "df51413d",
   "metadata": {},
   "outputs": [],
   "source": []
  }
 ],
 "metadata": {
  "kernelspec": {
   "display_name": "Python 3 (ipykernel)",
   "language": "python",
   "name": "python3"
  },
  "language_info": {
   "codemirror_mode": {
    "name": "ipython",
    "version": 3
   },
   "file_extension": ".py",
   "mimetype": "text/x-python",
   "name": "python",
   "nbconvert_exporter": "python",
   "pygments_lexer": "ipython3",
   "version": "3.9.7"
  }
 },
 "nbformat": 4,
 "nbformat_minor": 5
}
