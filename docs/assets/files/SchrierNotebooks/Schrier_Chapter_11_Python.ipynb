{
  "cells": [
    {
      "cell_type": "markdown",
      "id": "ccfbb8b4",
      "metadata": {
        "id": "ccfbb8b4"
      },
      "source": [
        "<h1>11.1 Prelude: Tossing Coins to Collect Data<h1>"
      ]
    },
    {
      "cell_type": "markdown",
      "id": "8ca8c1c5",
      "metadata": {
        "id": "8ca8c1c5"
      },
      "source": [
        "<h2>11.1.1 Direct Simulation<h2>"
      ]
    },
    {
      "cell_type": "code",
      "execution_count": 1,
      "id": "4ece7255",
      "metadata": {
        "id": "4ece7255"
      },
      "outputs": [],
      "source": [
        "import numpy as np"
      ]
    },
    {
      "cell_type": "code",
      "execution_count": 2,
      "id": "c1d10ad9",
      "metadata": {
        "colab": {
          "base_uri": "https://localhost:8080/"
        },
        "id": "c1d10ad9",
        "outputId": "b163900a-0a2e-4560-b169-6a1dc0d6e2a9"
      },
      "outputs": [
        {
          "output_type": "execute_result",
          "data": {
            "text/plain": [
              "[0, 0]"
            ]
          },
          "metadata": {},
          "execution_count": 2
        }
      ],
      "source": [
        "[np.random.randint(2),np.random.randint(2)]"
      ]
    },
    {
      "cell_type": "code",
      "execution_count": 3,
      "id": "2e4c0dec",
      "metadata": {
        "scrolled": true,
        "id": "2e4c0dec"
      },
      "outputs": [],
      "source": [
        "samples = []; # Empty list within which to store outcomes\n",
        "for i in range(100): # Repeat 100 times\n",
        "    samples.append([np.random.randint(2),np.random.randint(2)]) # Append new outcomes to samples list 100 times"
      ]
    },
    {
      "cell_type": "code",
      "execution_count": 4,
      "id": "c998e829",
      "metadata": {
        "colab": {
          "base_uri": "https://localhost:8080/"
        },
        "id": "c998e829",
        "outputId": "e6854e90-13e6-46f2-a1bc-59b3cb45f5a8"
      },
      "outputs": [
        {
          "output_type": "stream",
          "name": "stdout",
          "text": [
            "[[0, 1], [1, 1], [0, 0], [0, 0], [1, 1], [1, 0], [0, 1], [0, 1], [0, 1], [1, 0], [1, 0], [1, 1], [1, 0], [0, 1], [0, 0], [0, 0], [1, 1], [1, 1], [1, 1], [0, 0], [1, 1], [0, 1], [0, 1], [0, 1], [1, 1], [0, 0], [1, 0], [1, 0], [1, 1], [1, 1], [1, 0], [0, 1], [1, 0], [0, 0], [0, 1], [1, 1], [0, 1], [0, 0], [1, 1], [1, 0], [0, 0], [1, 1], [0, 1], [0, 0], [1, 0], [0, 1], [0, 1], [1, 0], [1, 1], [1, 1], [1, 1], [1, 1], [1, 1], [1, 1], [0, 0], [0, 0], [1, 0], [1, 1], [0, 1], [0, 1], [1, 0], [0, 0], [1, 0], [1, 0], [1, 0], [0, 1], [1, 0], [0, 0], [1, 1], [0, 1], [0, 0], [0, 1], [0, 0], [1, 1], [1, 1], [0, 1], [0, 0], [1, 1], [1, 0], [0, 0], [1, 1], [1, 0], [1, 0], [0, 0], [1, 0], [1, 1], [1, 1], [1, 1], [1, 0], [1, 0], [1, 0], [1, 0], [1, 0], [1, 1], [1, 1], [1, 0], [0, 1], [1, 0], [1, 1], [0, 1]]\n"
          ]
        }
      ],
      "source": [
        "print(samples) # What do the samples look like?"
      ]
    },
    {
      "cell_type": "code",
      "execution_count": 5,
      "id": "ca46da0e",
      "metadata": {
        "scrolled": true,
        "colab": {
          "base_uri": "https://localhost:8080/"
        },
        "id": "ca46da0e",
        "outputId": "e89581b2-1c2e-4f8f-a824-748d506a9313"
      },
      "outputs": [
        {
          "output_type": "stream",
          "name": "stdout",
          "text": [
            "[[0 0]\n",
            " [0 1]\n",
            " [1 0]\n",
            " [1 1]]\n",
            "[19 22 28 31]\n"
          ]
        }
      ],
      "source": [
        "entries, counts = np.unique(samples, axis=0, return_counts=True)\n",
        "print(entries)\n",
        "print(counts)"
      ]
    },
    {
      "cell_type": "code",
      "execution_count": 6,
      "id": "a0f3040e",
      "metadata": {
        "colab": {
          "base_uri": "https://localhost:8080/"
        },
        "id": "a0f3040e",
        "outputId": "89ae7291-a090-4be4-c077-3143f3cda05f"
      },
      "outputs": [
        {
          "output_type": "stream",
          "name": "stdout",
          "text": [
            "[[ 0  0 19]\n",
            " [ 0  1 22]\n",
            " [ 1  0 28]\n",
            " [ 1  1 31]]\n"
          ]
        }
      ],
      "source": [
        "tally = np.vstack([entries.T, counts]).T\n",
        "print(tally)"
      ]
    },
    {
      "cell_type": "code",
      "execution_count": 7,
      "id": "05ec0235",
      "metadata": {
        "id": "05ec0235"
      },
      "outputs": [],
      "source": [
        "def tally(samples):\n",
        "    entries, counts = np.unique(samples, axis=0, return_counts=True)\n",
        "    finalTally = np.vstack([entries.T, counts]).T\n",
        "    return finalTally"
      ]
    },
    {
      "cell_type": "code",
      "execution_count": 8,
      "id": "3eb99fbe",
      "metadata": {
        "colab": {
          "base_uri": "https://localhost:8080/"
        },
        "id": "3eb99fbe",
        "outputId": "209d1ba9-7337-4332-b592-532d02b6d914"
      },
      "outputs": [
        {
          "output_type": "stream",
          "name": "stdout",
          "text": [
            "[[ 0  0 19]\n",
            " [ 0  1 22]\n",
            " [ 1  0 28]\n",
            " [ 1  1 31]]\n"
          ]
        }
      ],
      "source": [
        "print(tally(samples))"
      ]
    },
    {
      "cell_type": "markdown",
      "id": "641cadba",
      "metadata": {
        "id": "641cadba"
      },
      "source": [
        "<h2>11.1.2 A random walk through configuration space<h2>"
      ]
    },
    {
      "cell_type": "code",
      "execution_count": 9,
      "id": "70250081",
      "metadata": {
        "colab": {
          "base_uri": "https://localhost:8080/"
        },
        "id": "70250081",
        "outputId": "8c3b2ee5-288a-4084-b1b9-a7721e946812"
      },
      "outputs": [
        {
          "output_type": "stream",
          "name": "stdout",
          "text": [
            "[[ 0  0 26]\n",
            " [ 0  1 19]\n",
            " [ 1  0 28]\n",
            " [ 1  1 27]]\n"
          ]
        }
      ],
      "source": [
        "coins = [1,0] # heads = 0, tails = 1\n",
        "samples = [] # empty list within which to store outcomes\n",
        "for i in range(100): # loop over 100 coin toss trials\n",
        "    whichCoin = np.random.randint(2) # pick a coin\n",
        "    coins[whichCoin] = np.random.randint(2) # toss that coin\n",
        "    samples.append(coins.copy()) # add new outcome to samples\n",
        "samplesTally = tally(samples)\n",
        "print(samplesTally)"
      ]
    },
    {
      "cell_type": "code",
      "execution_count": 10,
      "id": "6ea66f92",
      "metadata": {
        "colab": {
          "base_uri": "https://localhost:8080/"
        },
        "id": "6ea66f92",
        "outputId": "e0ca2a3b-1cc7-426d-b23e-c7f97be08c1d"
      },
      "outputs": [
        {
          "output_type": "execute_result",
          "data": {
            "text/plain": [
              "array([[ 0,  1, 19],\n",
              "       [ 0,  0, 26],\n",
              "       [ 1,  1, 27],\n",
              "       [ 1,  0, 28]])"
            ]
          },
          "metadata": {},
          "execution_count": 10
        }
      ],
      "source": [
        "samplesTally[samplesTally[:, 2].argsort()] # Sorted by occurances, increasing"
      ]
    },
    {
      "cell_type": "code",
      "execution_count": 11,
      "id": "1c37e7f3",
      "metadata": {
        "id": "1c37e7f3"
      },
      "outputs": [],
      "source": [
        "def count(samples,entry):\n",
        "    pairs, counts = np.unique(samples, axis=0, return_counts=True) # tally\n",
        "    for i in range(len(pairs)):\n",
        "        if np.array_equal(pairs[i],entry):\n",
        "            return counts[i]"
      ]
    },
    {
      "cell_type": "code",
      "execution_count": 12,
      "id": "a44c177b",
      "metadata": {
        "colab": {
          "base_uri": "https://localhost:8080/"
        },
        "id": "a44c177b",
        "outputId": "3b1ed219-d819-4b2a-8c99-69d134147e99"
      },
      "outputs": [
        {
          "output_type": "execute_result",
          "data": {
            "text/plain": [
              "26"
            ]
          },
          "metadata": {},
          "execution_count": 12
        }
      ],
      "source": [
        "count(samples,np.array([0,0]))"
      ]
    },
    {
      "cell_type": "code",
      "execution_count": 13,
      "id": "6040e1ac",
      "metadata": {
        "colab": {
          "base_uri": "https://localhost:8080/"
        },
        "id": "6040e1ac",
        "outputId": "6c3049e4-f094-4dbe-bbe4-dccc2c93932b"
      },
      "outputs": [
        {
          "output_type": "execute_result",
          "data": {
            "text/plain": [
              "0.26"
            ]
          },
          "metadata": {},
          "execution_count": 13
        }
      ],
      "source": [
        "count(samples,np.array([0,0]))/len(samples)"
      ]
    },
    {
      "cell_type": "markdown",
      "id": "a124936c",
      "metadata": {
        "id": "a124936c"
      },
      "source": [
        "<h2>11.1.3 A random walk through coin space<h2>"
      ]
    },
    {
      "cell_type": "code",
      "execution_count": 14,
      "id": "b5959673",
      "metadata": {
        "id": "b5959673"
      },
      "outputs": [],
      "source": [
        "def flip(coins,whichCoin):\n",
        "    newCoins = coins.copy()\n",
        "    if coins[whichCoin] == 0: # if its currently heads\n",
        "        newCoins[whichCoin] = 1 # then heads->tails\n",
        "    else:\n",
        "        newCoins[whichCoin] = 0 # else tails->heads\n",
        "    return newCoins"
      ]
    },
    {
      "cell_type": "code",
      "execution_count": 15,
      "id": "94aaa152",
      "metadata": {
        "colab": {
          "base_uri": "https://localhost:8080/"
        },
        "id": "94aaa152",
        "outputId": "a445db73-4b31-409d-fa03-276bd957ded3"
      },
      "outputs": [
        {
          "output_type": "execute_result",
          "data": {
            "text/plain": [
              "[0, 1]"
            ]
          },
          "metadata": {},
          "execution_count": 15
        }
      ],
      "source": [
        "flip([0,0],1)"
      ]
    },
    {
      "cell_type": "code",
      "execution_count": 16,
      "id": "cb6153ae",
      "metadata": {
        "colab": {
          "base_uri": "https://localhost:8080/"
        },
        "id": "cb6153ae",
        "outputId": "74763a3a-44be-4cc2-bfca-917aacd341f1"
      },
      "outputs": [
        {
          "output_type": "execute_result",
          "data": {
            "text/plain": [
              "0.2492"
            ]
          },
          "metadata": {},
          "execution_count": 16
        }
      ],
      "source": [
        "coins = [1,0] # heads = 0, tails = 1\n",
        "samples = []\n",
        "for i in range(10000):\n",
        "    whichCoin = np.random.randint(2)\n",
        "    coins=flip(coins,whichCoin)\n",
        "    samples.append(coins.copy())\n",
        "count(samples,[0,0])/len(samples)\n"
      ]
    },
    {
      "cell_type": "markdown",
      "id": "3fc419db",
      "metadata": {
        "id": "3fc419db"
      },
      "source": [
        "<h2>11.1.4 What if the probabilities are not uniform?<h2>"
      ]
    },
    {
      "cell_type": "code",
      "execution_count": 17,
      "id": "d3b3cb2c",
      "metadata": {
        "id": "d3b3cb2c"
      },
      "outputs": [],
      "source": [
        "pH = 0.75\n",
        "def probability(coins):\n",
        "    if coins == [0,0]:\n",
        "        return pH*pH\n",
        "    if coins == [0,1]:\n",
        "        return pH*(1-pH)\n",
        "    if coins == [1,0]:\n",
        "        return (1-pH)*pH\n",
        "    if coins == [1,1]:\n",
        "        return (1-pH)*(1-pH)"
      ]
    },
    {
      "cell_type": "code",
      "execution_count": 18,
      "id": "88fa25f2",
      "metadata": {
        "colab": {
          "base_uri": "https://localhost:8080/"
        },
        "id": "88fa25f2",
        "outputId": "2195bdf1-4239-4d68-83b4-56b487ffd873"
      },
      "outputs": [
        {
          "output_type": "execute_result",
          "data": {
            "text/plain": [
              "0.5625"
            ]
          },
          "metadata": {},
          "execution_count": 18
        }
      ],
      "source": [
        "probability([0,0])"
      ]
    },
    {
      "cell_type": "code",
      "execution_count": 19,
      "id": "2000a380",
      "metadata": {
        "scrolled": true,
        "colab": {
          "base_uri": "https://localhost:8080/"
        },
        "id": "2000a380",
        "outputId": "f125e7a6-f2a2-4048-97e2-9949a89c4a85"
      },
      "outputs": [
        {
          "output_type": "execute_result",
          "data": {
            "text/plain": [
              "0.5597"
            ]
          },
          "metadata": {},
          "execution_count": 19
        }
      ],
      "source": [
        "coins = [1,0]\n",
        "samples = []\n",
        "for i in range(10000):\n",
        "    whichCoin = np.random.randint(2)\n",
        "    newCoins = flip(coins,whichCoin)\n",
        "    if probability(newCoins)/probability(coins)>1:\n",
        "        coins=newCoins\n",
        "    else:\n",
        "        if np.random.random() <= probability(newCoins)/probability(coins):\n",
        "            coins = newCoins\n",
        "    samples.append(coins.copy())\n",
        "count(samples,[0,0])/len(samples)"
      ]
    },
    {
      "cell_type": "markdown",
      "id": "02a5d23f",
      "metadata": {
        "id": "02a5d23f"
      },
      "source": [
        "<h1>11.2 Metropolis Monte Carlo Algorithm<h1>"
      ]
    },
    {
      "cell_type": "markdown",
      "id": "d2f740c2",
      "metadata": {
        "id": "d2f740c2"
      },
      "source": [
        "<h2>11.2.1<h2>"
      ]
    },
    {
      "cell_type": "markdown",
      "id": "a885aa68",
      "metadata": {
        "id": "a885aa68"
      },
      "source": [
        "<h2>11.2.2<h2>"
      ]
    },
    {
      "cell_type": "markdown",
      "id": "439289a7",
      "metadata": {
        "id": "439289a7"
      },
      "source": [
        "<h1>11.3 Examples<h1>"
      ]
    },
    {
      "cell_type": "markdown",
      "id": "6f5310ce",
      "metadata": {
        "id": "6f5310ce"
      },
      "source": [
        "<h2>11.3.1 Average population of vibrational energies as a function of temperature Partition function solution<h2>"
      ]
    },
    {
      "cell_type": "code",
      "execution_count": 20,
      "id": "202bccd7",
      "metadata": {
        "id": "202bccd7"
      },
      "outputs": [],
      "source": [
        "import sympy as sy\n",
        "import matplotlib.pyplot as plt"
      ]
    },
    {
      "cell_type": "code",
      "execution_count": 21,
      "id": "c9e1da3a",
      "metadata": {
        "colab": {
          "base_uri": "https://localhost:8080/"
        },
        "id": "c9e1da3a",
        "outputId": "d9b8896f-2f6a-4738-f05f-fad3f1a1c4aa"
      },
      "outputs": [
        {
          "output_type": "stream",
          "name": "stdout",
          "text": [
            "0.5\n"
          ]
        }
      ],
      "source": [
        "def energyVibDiatomic(hbarOmega,v):\n",
        "    return hbarOmega*(v+0.5)\n",
        "print(energyVibDiatomic(1,0))"
      ]
    },
    {
      "cell_type": "code",
      "execution_count": 22,
      "id": "a6117aca",
      "metadata": {
        "colab": {
          "base_uri": "https://localhost:8080/"
        },
        "id": "a6117aca",
        "outputId": "af882889-3026-4c27-aae9-67473e36a6f4"
      },
      "outputs": [
        {
          "output_type": "stream",
          "name": "stdout",
          "text": [
            "0.9595173756674719\n"
          ]
        }
      ],
      "source": [
        "def qExact(kT,hbarOmega):\n",
        "    v = sy.symbols('v')\n",
        "    return float(sy.Sum(sy.exp(-energyVibDiatomic(hbarOmega,v)/kT), (v, 0, sy.oo))) # Summation from 0 to infinity\n",
        "print(qExact(1,1))"
      ]
    },
    {
      "cell_type": "code",
      "execution_count": 23,
      "id": "6433d6c1",
      "metadata": {
        "colab": {
          "base_uri": "https://localhost:8080/"
        },
        "id": "6433d6c1",
        "outputId": "c708c0df-3f53-46cc-dc33-c70a32fde62e"
      },
      "outputs": [
        {
          "output_type": "stream",
          "name": "stdout",
          "text": [
            "0.632120558828558\n"
          ]
        }
      ],
      "source": [
        "def exactProbResult(kT,hbarOmega,v):\n",
        "    return sy.exp(-energyVibDiatomic(hbarOmega,v)/kT)/qExact(kT,hbarOmega)\n",
        "print(exactProbResult(1,1,0))"
      ]
    },
    {
      "cell_type": "code",
      "execution_count": 24,
      "id": "c2ea6445",
      "metadata": {
        "colab": {
          "base_uri": "https://localhost:8080/",
          "height": 283
        },
        "id": "c2ea6445",
        "outputId": "a1f4e074-2f4e-49fc-9d7d-82fc89acb6b0"
      },
      "outputs": [
        {
          "output_type": "execute_result",
          "data": {
            "text/plain": [
              "[<matplotlib.lines.Line2D at 0x7fec262ad590>]"
            ]
          },
          "metadata": {},
          "execution_count": 24
        },
        {
          "output_type": "display_data",
          "data": {
            "text/plain": [
              "<Figure size 432x288 with 1 Axes>"
            ],
            "image/png": "[encoded data removed]"
          },
          "metadata": {
            "needs_background": "light"
          }
        }
      ],
      "source": [
        "xList = np.linspace(10**-1,10,100)\n",
        "yList = np.zeros(100)\n",
        "for i in range(len(xList)):\n",
        "    yList[i] = exactProbResult(xList[i],1,0)\n",
        "plt.plot(xList,yList)"
      ]
    },
    {
      "cell_type": "code",
      "execution_count": 25,
      "id": "60b9e60b",
      "metadata": {
        "colab": {
          "base_uri": "https://localhost:8080/",
          "height": 37
        },
        "id": "60b9e60b",
        "outputId": "dc220c9a-52f2-4c27-a70b-d12e09ec51a6"
      },
      "outputs": [
        {
          "output_type": "execute_result",
          "data": {
            "text/plain": [
              "0.632120558828558"
            ],
            "text/latex": "$\\displaystyle 0.632120558828558$"
          },
          "metadata": {},
          "execution_count": 25
        }
      ],
      "source": [
        "exactProbResult(1,1,0) # probability when v=0 and kT=1, hbarOmega=1"
      ]
    },
    {
      "cell_type": "code",
      "execution_count": 26,
      "id": "69133f3c",
      "metadata": {
        "id": "69133f3c"
      },
      "outputs": [],
      "source": [
        "def MCstep(kT,hbarOmega,v):\n",
        "    vprime = np.maximum(v+(-1)**np.random.randint(2),0) # Randomly, v->v+1 or v->v-1, but v will not go below 0\n",
        "    deltaE = energyVibDiatomic(hbarOmega,vprime) - energyVibDiatomic(hbarOmega,v)\n",
        "    if deltaE <= 0 or np.random.random() <= sy.exp(-deltaE/kT):\n",
        "        return vprime\n",
        "    return v"
      ]
    },
    {
      "cell_type": "code",
      "execution_count": 27,
      "id": "d622395f",
      "metadata": {
        "id": "d622395f"
      },
      "outputs": [],
      "source": [
        "v, hbarOmega, kT = 0,1,1\n",
        "for i in range(100):\n",
        "    v = MCstep(kT,hbarOmega,v)"
      ]
    },
    {
      "cell_type": "code",
      "execution_count": 28,
      "id": "9f50b1f1",
      "metadata": {
        "id": "9f50b1f1"
      },
      "outputs": [],
      "source": [
        "vSamples=[]\n",
        "for i in range(1000000):\n",
        "    v = MCstep(kT,hbarOmega,v)\n",
        "    if i%100 == 0:\n",
        "        vSamples.append(v)"
      ]
    },
    {
      "cell_type": "code",
      "execution_count": 29,
      "id": "cd8ec02f",
      "metadata": {
        "colab": {
          "base_uri": "https://localhost:8080/"
        },
        "id": "cd8ec02f",
        "outputId": "6c938bcd-3783-4257-9561-84973d973c05"
      },
      "outputs": [
        {
          "output_type": "stream",
          "name": "stdout",
          "text": [
            "[[   0 6342]\n",
            " [   1 2307]\n",
            " [   2  851]\n",
            " [   3  308]\n",
            " [   4  122]\n",
            " [   5   44]\n",
            " [   6   18]\n",
            " [   7    5]\n",
            " [   8    1]\n",
            " [   9    2]]\n"
          ]
        }
      ],
      "source": [
        "entries, counts = np.unique(vSamples, axis=0, return_counts=True)\n",
        "tally = np.vstack([entries.T, counts]).T\n",
        "print(tally)"
      ]
    },
    {
      "cell_type": "code",
      "execution_count": 30,
      "id": "4bc55780",
      "metadata": {
        "colab": {
          "base_uri": "https://localhost:8080/"
        },
        "id": "4bc55780",
        "outputId": "2bb7cc03-8a44-40b4-d51d-4ac682eceb84"
      },
      "outputs": [
        {
          "output_type": "execute_result",
          "data": {
            "text/plain": [
              "0.6342"
            ]
          },
          "metadata": {},
          "execution_count": 30
        }
      ],
      "source": [
        "count(vSamples,0)/len(vSamples) "
      ]
    },
    {
      "cell_type": "code",
      "execution_count": 31,
      "id": "1e82586b",
      "metadata": {
        "id": "1e82586b"
      },
      "outputs": [],
      "source": [
        "def runMC(kT, hbarOmega, nEquil, nDataCol):\n",
        "    v = 0\n",
        "    vSamples = []\n",
        "    for i in range(nEquil): # Equilibriation\n",
        "        v = MCstep(kT, hbarOmega, v)\n",
        "    for i in range(nDataCol): # Data collection\n",
        "        v = MCstep(kT, hbarOmega, v)\n",
        "        if i%100 == 0:\n",
        "            vSamples.append(v)\n",
        "    return vSamples\n",
        "\n",
        "def MCProbResult(vSamples, vTarget):\n",
        "    return count(vSamples, vTarget)/len(vSamples)"
      ]
    },
    {
      "cell_type": "code",
      "execution_count": 32,
      "id": "032da1a8",
      "metadata": {
        "colab": {
          "base_uri": "https://localhost:8080/"
        },
        "id": "032da1a8",
        "outputId": "828148ad-e42d-41cb-a84f-97493cfe5ee2"
      },
      "outputs": [
        {
          "output_type": "stream",
          "name": "stdout",
          "text": [
            "[0.7, 0.6333333333333333, 0.5, 0.6285714285714286, 0.6555555555555556, 0.5909090909090909, 0.6384615384615384, 0.6333333333333333, 0.6470588235294118, 0.6684210526315789, 0.6571428571428571, 0.6739130434782609, 0.664, 0.6518518518518519, 0.6137931034482759, 0.6193548387096774, 0.6515151515151515, 0.6057142857142858, 0.6135135135135135, 0.6256410256410256, 0.6195121951219512, 0.6046511627906976, 0.6311111111111111, 0.6361702127659574, 0.6408163265306123, 0.611764705882353, 0.6169811320754717, 0.6290909090909091, 0.6280701754385964, 0.6084745762711864, 0.6032786885245902, 0.6730158730158731, 0.6307692307692307, 0.6208955223880597, 0.6260869565217392, 0.6507042253521127, 0.6273972602739726, 0.6266666666666667, 0.6415584415584416, 0.6354430379746835, 0.6098765432098765, 0.6325301204819277, 0.6411764705882353, 0.6252873563218391, 0.6550561797752809, 0.6186813186813187, 0.6483870967741936, 0.6210526315789474, 0.6154639175257732, 0.6161616161616161]\n"
          ]
        }
      ],
      "source": [
        "kT, hbarOmega = 1, 1\n",
        "xList = []\n",
        "convergenceTest = []\n",
        "for nDataCol in range(1000,100000,2000):\n",
        "    xList.append(nDataCol)\n",
        "    convergenceTest.append(MCProbResult(runMC(kT, hbarOmega, 100, nDataCol),0))\n",
        "print(convergenceTest)"
      ]
    },
    {
      "cell_type": "code",
      "execution_count": 33,
      "id": "0460a59b",
      "metadata": {
        "colab": {
          "base_uri": "https://localhost:8080/",
          "height": 283
        },
        "id": "0460a59b",
        "outputId": "8247019d-4491-4634-f10a-c4ea5c443b69"
      },
      "outputs": [
        {
          "output_type": "execute_result",
          "data": {
            "text/plain": [
              "<matplotlib.lines.Line2D at 0x7fec2680f510>"
            ]
          },
          "metadata": {},
          "execution_count": 33
        },
        {
          "output_type": "display_data",
          "data": {
            "text/plain": [
              "<Figure size 432x288 with 1 Axes>"
            ],
            "image/png": "[encoded data removed]"
          },
          "metadata": {
            "needs_background": "light"
          }
        }
      ],
      "source": [
        "plt.plot(xList,convergenceTest)\n",
        "plt.axhline(y=exactProbResult(1,1,0), color='r', linestyle='-')"
      ]
    },
    {
      "cell_type": "markdown",
      "id": "adf469f6",
      "metadata": {
        "id": "adf469f6"
      },
      "source": [
        "<h2>11.3.2 Vibrational heat capacity<h2>"
      ]
    },
    {
      "cell_type": "code",
      "execution_count": 34,
      "id": "7a4b08d5",
      "metadata": {
        "id": "7a4b08d5"
      },
      "outputs": [],
      "source": [
        "def avgE(hbarOmega,kT):\n",
        "    v = sy.symbols('v')\n",
        "    energyVib = energyVibDiatomic(hbarOmega,v)\n",
        "    return float(sy.Sum(energyVib*sy.exp(-energyVib/kT), (v, 0, sy.oo))/qExact(kT,hbarOmega)) # Summation from 0 to infinity"
      ]
    },
    {
      "cell_type": "code",
      "execution_count": 35,
      "id": "cf40e6a1",
      "metadata": {
        "colab": {
          "base_uri": "https://localhost:8080/"
        },
        "id": "cf40e6a1",
        "outputId": "8435e17d-f1ee-4dde-a15e-096920d73b4d"
      },
      "outputs": [
        {
          "output_type": "execute_result",
          "data": {
            "text/plain": [
              "0.9207489975249228"
            ]
          },
          "metadata": {},
          "execution_count": 35
        }
      ],
      "source": [
        "dh=10**-3 # define the step size\n",
        "(avgE(1,1+dh)-avgE(1,1))/dh # calculate forward difference"
      ]
    },
    {
      "cell_type": "code",
      "execution_count": 36,
      "id": "38bd9a81",
      "metadata": {
        "colab": {
          "base_uri": "https://localhost:8080/"
        },
        "id": "38bd9a81",
        "outputId": "c02f5c2c-c7f3-4b8e-d58e-b30a6133e286"
      },
      "outputs": [
        {
          "output_type": "execute_result",
          "data": {
            "text/plain": [
              "0.9205980498181443"
            ]
          },
          "metadata": {},
          "execution_count": 36
        }
      ],
      "source": [
        "(avgE(1,1)-avgE(1,1-dh))/dh # reverse difference, previously defined %dhist"
      ]
    },
    {
      "cell_type": "code",
      "execution_count": 37,
      "id": "ebb017ab",
      "metadata": {
        "colab": {
          "base_uri": "https://localhost:8080/"
        },
        "id": "ebb017ab",
        "outputId": "4dceacf4-6911-4fe0-88d4-16a77e5792ec"
      },
      "outputs": [
        {
          "output_type": "execute_result",
          "data": {
            "text/plain": [
              "0.9206735765732166"
            ]
          },
          "metadata": {},
          "execution_count": 37
        }
      ],
      "source": [
        "(avgE(1,1+dh/2)-avgE(1,1-dh/2))/dh # central difference, previously defined dh"
      ]
    },
    {
      "cell_type": "code",
      "execution_count": 38,
      "id": "3e0733e4",
      "metadata": {
        "id": "3e0733e4"
      },
      "outputs": [],
      "source": [
        "def avgE2(hbarOmega,kT):\n",
        "    v = sy.symbols('v')\n",
        "    energyVib = energyVibDiatomic(hbarOmega,v)\n",
        "    return float(sy.Sum(energyVib**2*sy.exp(-energyVib/kT), (v, 0, sy.oo))/qExact(kT,hbarOmega)) # Summation from 0 to infinity"
      ]
    },
    {
      "cell_type": "code",
      "execution_count": 39,
      "id": "a1a7d835",
      "metadata": {
        "colab": {
          "base_uri": "https://localhost:8080/"
        },
        "id": "a1a7d835",
        "outputId": "9dd9e62d-503e-4ce8-dd43-b1d271198618"
      },
      "outputs": [
        {
          "output_type": "execute_result",
          "data": {
            "text/plain": [
              "0.9206735942077924"
            ]
          },
          "metadata": {},
          "execution_count": 39
        }
      ],
      "source": [
        "(avgE2(1,1)-avgE(1,1)**2)/1**2 # via standard deviation"
      ]
    },
    {
      "cell_type": "code",
      "execution_count": 40,
      "id": "f32f637b",
      "metadata": {
        "id": "f32f637b"
      },
      "outputs": [],
      "source": [
        "dh=10**-3\n",
        "def heatCapacityExactFiniteDiff(hbarOmega,kT):\n",
        "    return (avgE(hbarOmega,kT+dh/2)-avgE(hbarOmega,kT-dh/2))/dh\n",
        "def heatCapacityExactStdDev(hbarOmega,kT):\n",
        "    return(avgE2(hbarOmega,kT)-avgE(hbarOmega,kT)**2)/kT**2"
      ]
    },
    {
      "cell_type": "code",
      "execution_count": 41,
      "id": "8ece7243",
      "metadata": {
        "id": "8ece7243"
      },
      "outputs": [],
      "source": [
        "def runMCv2(kT,hbarOmega,nEquil,nDataCol):\n",
        "    # Initialize local variables\n",
        "    v=0\n",
        "    ESamples=[]\n",
        "    E2Samples=[]\n",
        "    \n",
        "    # Equilibriation\n",
        "    for i in range(nEquil):\n",
        "        v = MCstep(kT,hbarOmega,v)\n",
        "        \n",
        "    # Data collection\n",
        "    for i in range(nDataCol):\n",
        "        v = MCstep(kT,hbarOmega,v)\n",
        "        if i%100 == 0:\n",
        "            ESamples.append(energyVibDiatomic(hbarOmega,v))\n",
        "            E2Samples.append((energyVibDiatomic(hbarOmega,v))**2)\n",
        "    \n",
        "    return (ESamples, E2Samples)\n",
        "\n",
        "kT, hbarOmega = 1,1\n",
        "ESamples, E2Samples = runMCv2(kT,hbarOmega,100,50000)"
      ]
    },
    {
      "cell_type": "code",
      "execution_count": 42,
      "id": "a9382beb",
      "metadata": {
        "id": "a9382beb"
      },
      "outputs": [],
      "source": [
        "def heatCapacityFromSamples(ESamples, E2Samples, kT):\n",
        "    return (np.mean(np.array(E2Samples))-np.mean(np.array(ESamples))**2)/kT**2"
      ]
    },
    {
      "cell_type": "code",
      "execution_count": 43,
      "id": "e2dfc589",
      "metadata": {
        "id": "e2dfc589"
      },
      "outputs": [],
      "source": [
        "def heatCapacityFromSamplesVariance(ESamples, kT):\n",
        "    return np.var(np.array(ESamples))/kT**2"
      ]
    },
    {
      "cell_type": "code",
      "execution_count": 44,
      "id": "349a56ec",
      "metadata": {
        "scrolled": false,
        "colab": {
          "base_uri": "https://localhost:8080/"
        },
        "id": "349a56ec",
        "outputId": "b4d6a7be-0cc2-4a52-9a8c-e66c4bfcf1a7"
      },
      "outputs": [
        {
          "output_type": "stream",
          "name": "stdout",
          "text": [
            "0.9206735942077924\n",
            "0.8061559999999999\n",
            "0.806156\n"
          ]
        }
      ],
      "source": [
        "print(heatCapacityExactStdDev(hbarOmega,kT))\n",
        "print(heatCapacityFromSamples(ESamples,E2Samples,kT))\n",
        "print(heatCapacityFromSamplesVariance(ESamples,kT))"
      ]
    },
    {
      "cell_type": "code",
      "execution_count": 44,
      "id": "292c4670",
      "metadata": {
        "id": "292c4670"
      },
      "outputs": [],
      "source": [
        ""
      ]
    }
  ],
  "metadata": {
    "kernelspec": {
      "display_name": "Python 3 (ipykernel)",
      "language": "python",
      "name": "python3"
    },
    "language_info": {
      "codemirror_mode": {
        "name": "ipython",
        "version": 3
      },
      "file_extension": ".py",
      "mimetype": "text/x-python",
      "name": "python",
      "nbconvert_exporter": "python",
      "pygments_lexer": "ipython3",
      "version": "3.8.12"
    },
    "colab": {
      "name": "Schrier Chapter 11 Python.ipynb",
      "provenance": []
    }
  },
  "nbformat": 4,
  "nbformat_minor": 5
}