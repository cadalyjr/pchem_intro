{
 "cells": [
  {
   "cell_type": "markdown",
   "id": "ccfbb8b4",
   "metadata": {},
   "source": [
    "<h1>11.1 Prelude: Tossing Coins to Collect Data<h1>"
   ]
  },
  {
   "cell_type": "markdown",
   "id": "8ca8c1c5",
   "metadata": {},
   "source": [
    "<h2>11.1.1 Direct Simulation<h2>"
   ]
  },
  {
   "cell_type": "code",
   "execution_count": 1,
   "id": "4ece7255",
   "metadata": {},
   "outputs": [],
   "source": [
    "import numpy as np"
   ]
  },
  {
   "cell_type": "code",
   "execution_count": 2,
   "id": "c1d10ad9",
   "metadata": {},
   "outputs": [
    {
     "data": {
      "text/plain": [
       "[1, 0]"
      ]
     },
     "execution_count": 2,
     "metadata": {},
     "output_type": "execute_result"
    }
   ],
   "source": [
    "[np.random.randint(2),np.random.randint(2)]"
   ]
  },
  {
   "cell_type": "code",
   "execution_count": 3,
   "id": "2e4c0dec",
   "metadata": {
    "scrolled": true
   },
   "outputs": [],
   "source": [
    "samples = []; # Empty list within which to store outcomes\n",
    "for i in range(100): # Repeat 100 times\n",
    "    samples.append([np.random.randint(2),np.random.randint(2)]) # Append new outcomes to samples list 100 times"
   ]
  },
  {
   "cell_type": "code",
   "execution_count": 4,
   "id": "c998e829",
   "metadata": {},
   "outputs": [
    {
     "name": "stdout",
     "output_type": "stream",
     "text": [
      "[[1, 1], [1, 1], [0, 0], [0, 1], [1, 0], [1, 0], [1, 0], [0, 0], [0, 0], [0, 1], [1, 1], [0, 1], [1, 0], [0, 0], [1, 0], [0, 1], [0, 1], [1, 0], [0, 1], [1, 0], [1, 1], [0, 1], [1, 1], [1, 1], [1, 1], [0, 0], [1, 1], [0, 1], [1, 0], [0, 1], [0, 1], [1, 1], [0, 0], [0, 0], [0, 0], [0, 1], [1, 1], [0, 0], [1, 0], [1, 0], [0, 0], [1, 1], [1, 0], [1, 0], [1, 1], [1, 1], [0, 0], [0, 0], [1, 1], [1, 0], [0, 1], [0, 0], [0, 0], [1, 0], [0, 1], [1, 1], [1, 1], [1, 1], [1, 0], [0, 0], [1, 1], [0, 0], [1, 0], [1, 0], [1, 1], [1, 1], [1, 0], [1, 1], [1, 0], [1, 0], [0, 1], [0, 1], [1, 0], [0, 0], [1, 0], [0, 0], [1, 1], [1, 0], [1, 1], [1, 1], [0, 0], [0, 0], [0, 0], [0, 0], [0, 0], [1, 1], [0, 1], [0, 0], [0, 1], [1, 1], [0, 0], [0, 1], [1, 1], [0, 1], [0, 1], [1, 0], [1, 1], [0, 0], [1, 1], [1, 0]]\n"
     ]
    }
   ],
   "source": [
    "print(samples) # What do the samples look like?"
   ]
  },
  {
   "cell_type": "code",
   "execution_count": 5,
   "id": "ca46da0e",
   "metadata": {
    "scrolled": true
   },
   "outputs": [
    {
     "name": "stdout",
     "output_type": "stream",
     "text": [
      "[[0 0]\n",
      " [0 1]\n",
      " [1 0]\n",
      " [1 1]]\n",
      "[26 20 25 29]\n"
     ]
    }
   ],
   "source": [
    "entries, counts = np.unique(samples, axis=0, return_counts=True)\n",
    "print(entries)\n",
    "print(counts)"
   ]
  },
  {
   "cell_type": "code",
   "execution_count": 6,
   "id": "a0f3040e",
   "metadata": {},
   "outputs": [
    {
     "name": "stdout",
     "output_type": "stream",
     "text": [
      "[[ 0  0 26]\n",
      " [ 0  1 20]\n",
      " [ 1  0 25]\n",
      " [ 1  1 29]]\n"
     ]
    }
   ],
   "source": [
    "tally = np.vstack([entries.T, counts]).T\n",
    "print(tally)"
   ]
  },
  {
   "cell_type": "code",
   "execution_count": 7,
   "id": "05ec0235",
   "metadata": {},
   "outputs": [],
   "source": [
    "def tally(samples):\n",
    "    entries, counts = np.unique(samples, axis=0, return_counts=True)\n",
    "    finalTally = np.vstack([entries.T, counts]).T\n",
    "    return finalTally"
   ]
  },
  {
   "cell_type": "code",
   "execution_count": 8,
   "id": "3eb99fbe",
   "metadata": {},
   "outputs": [
    {
     "name": "stdout",
     "output_type": "stream",
     "text": [
      "[[ 0  0 26]\n",
      " [ 0  1 20]\n",
      " [ 1  0 25]\n",
      " [ 1  1 29]]\n"
     ]
    }
   ],
   "source": [
    "print(tally(samples))"
   ]
  },
  {
   "cell_type": "markdown",
   "id": "641cadba",
   "metadata": {},
   "source": [
    "<h2>11.1.2 A random walk through configuration space<h2>"
   ]
  },
  {
   "cell_type": "code",
   "execution_count": 9,
   "id": "70250081",
   "metadata": {},
   "outputs": [
    {
     "name": "stdout",
     "output_type": "stream",
     "text": [
      "[[ 0  0 33]\n",
      " [ 0  1 29]\n",
      " [ 1  0 20]\n",
      " [ 1  1 18]]\n"
     ]
    }
   ],
   "source": [
    "coins = [1,0] # heads = 0, tails = 1\n",
    "samples = [] # empty list within which to store outcomes\n",
    "for i in range(100): # loop over 100 coin toss trials\n",
    "    whichCoin = np.random.randint(2) # pick a coin\n",
    "    coins[whichCoin] = np.random.randint(2) # toss that coin\n",
    "    samples.append(coins.copy()) # add new outcome to samples\n",
    "samplesTally = tally(samples)\n",
    "print(samplesTally)"
   ]
  },
  {
   "cell_type": "code",
   "execution_count": 10,
   "id": "6ea66f92",
   "metadata": {},
   "outputs": [
    {
     "data": {
      "text/plain": [
       "array([[ 1,  1, 18],\n",
       "       [ 1,  0, 20],\n",
       "       [ 0,  1, 29],\n",
       "       [ 0,  0, 33]])"
      ]
     },
     "execution_count": 10,
     "metadata": {},
     "output_type": "execute_result"
    }
   ],
   "source": [
    "samplesTally[samplesTally[:, 2].argsort()] # Sorted by occurances, increasing"
   ]
  },
  {
   "cell_type": "code",
   "execution_count": 11,
   "id": "1c37e7f3",
   "metadata": {},
   "outputs": [],
   "source": [
    "def count(samples,entry):\n",
    "    pairs, counts = np.unique(samples, axis=0, return_counts=True) # tally\n",
    "    for i in range(len(pairs)):\n",
    "        if np.array_equal(pairs[i],entry):\n",
    "            return counts[i]"
   ]
  },
  {
   "cell_type": "code",
   "execution_count": 12,
   "id": "a44c177b",
   "metadata": {},
   "outputs": [
    {
     "data": {
      "text/plain": [
       "33"
      ]
     },
     "execution_count": 12,
     "metadata": {},
     "output_type": "execute_result"
    }
   ],
   "source": [
    "count(samples,np.array([0,0]))"
   ]
  },
  {
   "cell_type": "code",
   "execution_count": 13,
   "id": "6040e1ac",
   "metadata": {},
   "outputs": [
    {
     "data": {
      "text/plain": [
       "0.33"
      ]
     },
     "execution_count": 13,
     "metadata": {},
     "output_type": "execute_result"
    }
   ],
   "source": [
    "count(samples,np.array([0,0]))/len(samples)"
   ]
  },
  {
   "cell_type": "markdown",
   "id": "a124936c",
   "metadata": {},
   "source": [
    "<h2>11.1.3 A random walk through coin space<h2>"
   ]
  },
  {
   "cell_type": "code",
   "execution_count": 14,
   "id": "b5959673",
   "metadata": {},
   "outputs": [],
   "source": [
    "def flip(coins,whichCoin):\n",
    "    newCoins = coins.copy()\n",
    "    if coins[whichCoin] == 0: # if its currently heads\n",
    "        newCoins[whichCoin] = 1 # then heads->tails\n",
    "    else:\n",
    "        newCoins[whichCoin] = 0 # else tails->heads\n",
    "    return newCoins"
   ]
  },
  {
   "cell_type": "code",
   "execution_count": 15,
   "id": "94aaa152",
   "metadata": {},
   "outputs": [
    {
     "data": {
      "text/plain": [
       "[0, 1]"
      ]
     },
     "execution_count": 15,
     "metadata": {},
     "output_type": "execute_result"
    }
   ],
   "source": [
    "flip([0,0],1)"
   ]
  },
  {
   "cell_type": "code",
   "execution_count": 16,
   "id": "cb6153ae",
   "metadata": {},
   "outputs": [
    {
     "data": {
      "text/plain": [
       "0.2518"
      ]
     },
     "execution_count": 16,
     "metadata": {},
     "output_type": "execute_result"
    }
   ],
   "source": [
    "coins = [1,0] # heads = 0, tails = 1\n",
    "samples = []\n",
    "for i in range(10000):\n",
    "    whichCoin = np.random.randint(2)\n",
    "    coins=flip(coins,whichCoin)\n",
    "    samples.append(coins.copy())\n",
    "count(samples,[0,0])/len(samples)\n"
   ]
  },
  {
   "cell_type": "markdown",
   "id": "3fc419db",
   "metadata": {},
   "source": [
    "<h2>11.1.4 What if the probabilities are not uniform?<h2>"
   ]
  },
  {
   "cell_type": "code",
   "execution_count": 17,
   "id": "d3b3cb2c",
   "metadata": {},
   "outputs": [],
   "source": [
    "pH = 0.75\n",
    "def probability(coins):\n",
    "    if coins == [0,0]:\n",
    "        return pH*pH\n",
    "    if coins == [0,1]:\n",
    "        return pH*(1-pH)\n",
    "    if coins == [1,0]:\n",
    "        return (1-pH)*pH\n",
    "    if coins == [1,1]:\n",
    "        return (1-pH)*(1-pH)"
   ]
  },
  {
   "cell_type": "code",
   "execution_count": 18,
   "id": "88fa25f2",
   "metadata": {},
   "outputs": [
    {
     "data": {
      "text/plain": [
       "0.5625"
      ]
     },
     "execution_count": 18,
     "metadata": {},
     "output_type": "execute_result"
    }
   ],
   "source": [
    "probability([0,0])"
   ]
  },
  {
   "cell_type": "code",
   "execution_count": 19,
   "id": "2000a380",
   "metadata": {
    "scrolled": true
   },
   "outputs": [
    {
     "data": {
      "text/plain": [
       "0.5699"
      ]
     },
     "execution_count": 19,
     "metadata": {},
     "output_type": "execute_result"
    }
   ],
   "source": [
    "coins = [1,0]\n",
    "samples = []\n",
    "for i in range(10000):\n",
    "    whichCoin = np.random.randint(2)\n",
    "    newCoins = flip(coins,whichCoin)\n",
    "    if probability(newCoins)/probability(coins)>1:\n",
    "        coins=newCoins\n",
    "    else:\n",
    "        if np.random.random() <= probability(newCoins)/probability(coins):\n",
    "            coins = newCoins\n",
    "    samples.append(coins.copy())\n",
    "count(samples,[0,0])/len(samples)"
   ]
  },
  {
   "cell_type": "markdown",
   "id": "02a5d23f",
   "metadata": {},
   "source": [
    "<h1>11.2 Metropolis Monte Carlo Algorithm<h1>"
   ]
  },
  {
   "cell_type": "markdown",
   "id": "d2f740c2",
   "metadata": {},
   "source": [
    "<h2>11.2.1<h2>"
   ]
  },
  {
   "cell_type": "markdown",
   "id": "a885aa68",
   "metadata": {},
   "source": [
    "<h2>11.2.2<h2>"
   ]
  },
  {
   "cell_type": "markdown",
   "id": "439289a7",
   "metadata": {},
   "source": [
    "<h1>11.3 Examples<h1>"
   ]
  },
  {
   "cell_type": "markdown",
   "id": "6f5310ce",
   "metadata": {},
   "source": [
    "<h2>11.3.1 Average population of vibrational energies as a function of temperature Partition function solution<h2>"
   ]
  },
  {
   "cell_type": "code",
   "execution_count": 20,
   "id": "202bccd7",
   "metadata": {},
   "outputs": [],
   "source": [
    "import sympy as sy\n",
    "import matplotlib.pyplot as plt"
   ]
  },
  {
   "cell_type": "code",
   "execution_count": 21,
   "id": "c9e1da3a",
   "metadata": {},
   "outputs": [
    {
     "name": "stdout",
     "output_type": "stream",
     "text": [
      "0.5\n"
     ]
    }
   ],
   "source": [
    "def energyVibDiatomic(hbarOmega,v):\n",
    "    return hbarOmega*(v+0.5)\n",
    "print(energyVibDiatomic(1,0))"
   ]
  },
  {
   "cell_type": "code",
   "execution_count": 22,
   "id": "a6117aca",
   "metadata": {},
   "outputs": [
    {
     "name": "stdout",
     "output_type": "stream",
     "text": [
      "0.9595173756674719\n"
     ]
    }
   ],
   "source": [
    "def qExact(kT,hbarOmega):\n",
    "    v = sy.symbols('v')\n",
    "    return float(sy.Sum(sy.exp(-energyVibDiatomic(hbarOmega,v)/kT), (v, 0, sy.oo))) # Summation from 0 to infinity\n",
    "print(qExact(1,1))"
   ]
  },
  {
   "cell_type": "code",
   "execution_count": 23,
   "id": "6433d6c1",
   "metadata": {},
   "outputs": [
    {
     "name": "stdout",
     "output_type": "stream",
     "text": [
      "0.632120558828558\n"
     ]
    }
   ],
   "source": [
    "def exactProbResult(kT,hbarOmega,v):\n",
    "    return sy.exp(-energyVibDiatomic(hbarOmega,v)/kT)/qExact(kT,hbarOmega)\n",
    "print(exactProbResult(1,1,0))"
   ]
  },
  {
   "cell_type": "code",
   "execution_count": 24,
   "id": "c2ea6445",
   "metadata": {},
   "outputs": [
    {
     "data": {
      "text/plain": [
       "[<matplotlib.lines.Line2D at 0x14437a5b0>]"
      ]
     },
     "execution_count": 24,
     "metadata": {},
     "output_type": "execute_result"
    },
    {
     "data": {
      "image/png": "[encoded data removed]",
      "text/plain": [
       "<Figure size 432x288 with 1 Axes>"
      ]
     },
     "metadata": {
      "needs_background": "light"
     },
     "output_type": "display_data"
    }
   ],
   "source": [
    "xList = np.linspace(10**-1,10,100)\n",
    "yList = np.zeros(100)\n",
    "for i in range(len(xList)):\n",
    "    yList[i] = exactProbResult(xList[i],1,0)\n",
    "plt.plot(xList,yList)"
   ]
  },
  {
   "cell_type": "code",
   "execution_count": 25,
   "id": "60b9e60b",
   "metadata": {},
   "outputs": [
    {
     "data": {
      "text/latex": [
       "$\\displaystyle 0.632120558828558$"
      ],
      "text/plain": [
       "0.632120558828558"
      ]
     },
     "execution_count": 25,
     "metadata": {},
     "output_type": "execute_result"
    }
   ],
   "source": [
    "exactProbResult(1,1,0) # probability when v=0 and kT=1, hbarOmega=1"
   ]
  },
  {
   "cell_type": "code",
   "execution_count": 26,
   "id": "69133f3c",
   "metadata": {},
   "outputs": [],
   "source": [
    "def MCstep(kT,hbarOmega,v):\n",
    "    vprime = np.maximum(v+(-1)**np.random.randint(2),0) # Randomly, v->v+1 or v->v-1, but v will not go below 0\n",
    "    deltaE = energyVibDiatomic(hbarOmega,vprime) - energyVibDiatomic(hbarOmega,v)\n",
    "    if deltaE <= 0 or np.random.random() <= sy.exp(-deltaE/kT):\n",
    "        return vprime\n",
    "    return v"
   ]
  },
  {
   "cell_type": "code",
   "execution_count": 27,
   "id": "d622395f",
   "metadata": {},
   "outputs": [],
   "source": [
    "v, hbarOmega, kT = 0,1,1\n",
    "for i in range(100):\n",
    "    v = MCstep(kT,hbarOmega,v)"
   ]
  },
  {
   "cell_type": "code",
   "execution_count": 28,
   "id": "9f50b1f1",
   "metadata": {},
   "outputs": [],
   "source": [
    "vSamples=[]\n",
    "for i in range(1000000):\n",
    "    v = MCstep(kT,hbarOmega,v)\n",
    "    if i%100 == 0:\n",
    "        vSamples.append(v)"
   ]
  },
  {
   "cell_type": "code",
   "execution_count": 29,
   "id": "cd8ec02f",
   "metadata": {},
   "outputs": [
    {
     "name": "stdout",
     "output_type": "stream",
     "text": [
      "[[   0 6363]\n",
      " [   1 2297]\n",
      " [   2  846]\n",
      " [   3  314]\n",
      " [   4  116]\n",
      " [   5   37]\n",
      " [   6   18]\n",
      " [   7    6]\n",
      " [   8    1]\n",
      " [   9    1]\n",
      " [  11    1]]\n"
     ]
    }
   ],
   "source": [
    "entries, counts = np.unique(vSamples, axis=0, return_counts=True)\n",
    "tally = np.vstack([entries.T, counts]).T\n",
    "print(tally)"
   ]
  },
  {
   "cell_type": "code",
   "execution_count": 30,
   "id": "4bc55780",
   "metadata": {},
   "outputs": [
    {
     "data": {
      "text/plain": [
       "0.6363"
      ]
     },
     "execution_count": 30,
     "metadata": {},
     "output_type": "execute_result"
    }
   ],
   "source": [
    "count(vSamples,0)/len(vSamples) "
   ]
  },
  {
   "cell_type": "code",
   "execution_count": 31,
   "id": "1e82586b",
   "metadata": {},
   "outputs": [],
   "source": [
    "def runMC(kT, hbarOmega, nEquil, nDataCol):\n",
    "    v = 0\n",
    "    vSamples = []\n",
    "    for i in range(nEquil): # Equilibriation\n",
    "        v = MCstep(kT, hbarOmega, v)\n",
    "    for i in range(nDataCol): # Data collection\n",
    "        v = MCstep(kT, hbarOmega, v)\n",
    "        if i%100 == 0:\n",
    "            vSamples.append(v)\n",
    "    return vSamples\n",
    "\n",
    "def MCProbResult(vSamples, vTarget):\n",
    "    return count(vSamples, vTarget)/len(vSamples)"
   ]
  },
  {
   "cell_type": "code",
   "execution_count": 32,
   "id": "032da1a8",
   "metadata": {},
   "outputs": [
    {
     "name": "stdout",
     "output_type": "stream",
     "text": [
      "[0.6, 0.6, 0.72, 0.6571428571428571, 0.6333333333333333, 0.6727272727272727, 0.6307692307692307, 0.6533333333333333, 0.6352941176470588, 0.6526315789473685, 0.638095238095238, 0.6347826086956522, 0.656, 0.674074074074074, 0.6172413793103448, 0.6483870967741936, 0.6242424242424243, 0.6142857142857143, 0.6, 0.6538461538461539, 0.6365853658536585, 0.6186046511627907, 0.66, 0.6297872340425532, 0.636734693877551, 0.6411764705882353, 0.6264150943396226, 0.6436363636363637, 0.6192982456140351, 0.6406779661016949, 0.6524590163934426, 0.6333333333333333, 0.6307692307692307, 0.6686567164179105, 0.663768115942029, 0.6535211267605634, 0.6383561643835617, 0.616, 0.625974025974026, 0.6215189873417721, 0.645679012345679, 0.6277108433734939, 0.62, 0.6206896551724138, 0.6303370786516854, 0.6252747252747253, 0.6408602150537634, 0.6463157894736842, 0.6536082474226804, 0.6222222222222222]\n"
     ]
    }
   ],
   "source": [
    "kT, hbarOmega = 1, 1\n",
    "xList = []\n",
    "convergenceTest = []\n",
    "for nDataCol in range(1000,100000,2000):\n",
    "    xList.append(nDataCol)\n",
    "    convergenceTest.append(MCProbResult(runMC(kT, hbarOmega, 100, nDataCol),0))\n",
    "print(convergenceTest)"
   ]
  },
  {
   "cell_type": "code",
   "execution_count": 33,
   "id": "0460a59b",
   "metadata": {},
   "outputs": [
    {
     "data": {
      "text/plain": [
       "<matplotlib.lines.Line2D at 0x14462bca0>"
      ]
     },
     "execution_count": 33,
     "metadata": {},
     "output_type": "execute_result"
    },
    {
     "data": {
      "image/png": "[encoded data removed]",
      "text/plain": [
       "<Figure size 432x288 with 1 Axes>"
      ]
     },
     "metadata": {
      "needs_background": "light"
     },
     "output_type": "display_data"
    }
   ],
   "source": [
    "plt.plot(xList,convergenceTest)\n",
    "plt.axhline(y=exactProbResult(1,1,0), color='r', linestyle='-')"
   ]
  },
  {
   "cell_type": "markdown",
   "id": "adf469f6",
   "metadata": {},
   "source": [
    "<h2>11.3.2 Vibrational heat capacity<h2>"
   ]
  },
  {
   "cell_type": "code",
   "execution_count": 34,
   "id": "7a4b08d5",
   "metadata": {},
   "outputs": [],
   "source": [
    "def avgE(hbarOmega,kT):\n",
    "    v = sy.symbols('v')\n",
    "    energyVib = energyVibDiatomic(hbarOmega,v)\n",
    "    return float(sy.Sum(energyVib*sy.exp(-energyVib/kT), (v, 0, sy.oo))/qExact(kT,hbarOmega)) # Summation from 0 to infinity"
   ]
  },
  {
   "cell_type": "code",
   "execution_count": 35,
   "id": "cf40e6a1",
   "metadata": {},
   "outputs": [
    {
     "data": {
      "text/plain": [
       "0.9207489975249228"
      ]
     },
     "execution_count": 35,
     "metadata": {},
     "output_type": "execute_result"
    }
   ],
   "source": [
    "dh=10**-3 # define the step size\n",
    "(avgE(1,1+dh)-avgE(1,1))/dh # calculate forward difference"
   ]
  },
  {
   "cell_type": "code",
   "execution_count": 36,
   "id": "38bd9a81",
   "metadata": {},
   "outputs": [
    {
     "data": {
      "text/plain": [
       "0.9205980498181443"
      ]
     },
     "execution_count": 36,
     "metadata": {},
     "output_type": "execute_result"
    }
   ],
   "source": [
    "(avgE(1,1)-avgE(1,1-dh))/dh # reverse difference, previously defined %dhist"
   ]
  },
  {
   "cell_type": "code",
   "execution_count": 37,
   "id": "ebb017ab",
   "metadata": {},
   "outputs": [
    {
     "data": {
      "text/plain": [
       "0.9206735765732166"
      ]
     },
     "execution_count": 37,
     "metadata": {},
     "output_type": "execute_result"
    }
   ],
   "source": [
    "(avgE(1,1+dh/2)-avgE(1,1-dh/2))/dh # central difference, previously defined dh"
   ]
  },
  {
   "cell_type": "code",
   "execution_count": 38,
   "id": "3e0733e4",
   "metadata": {},
   "outputs": [],
   "source": [
    "def avgE2(hbarOmega,kT):\n",
    "    v = sy.symbols('v')\n",
    "    energyVib = energyVibDiatomic(hbarOmega,v)\n",
    "    return float(sy.Sum(energyVib**2*sy.exp(-energyVib/kT), (v, 0, sy.oo))/qExact(kT,hbarOmega)) # Summation from 0 to infinity"
   ]
  },
  {
   "cell_type": "code",
   "execution_count": 39,
   "id": "a1a7d835",
   "metadata": {},
   "outputs": [
    {
     "data": {
      "text/plain": [
       "0.9206735942077924"
      ]
     },
     "execution_count": 39,
     "metadata": {},
     "output_type": "execute_result"
    }
   ],
   "source": [
    "(avgE2(1,1)-avgE(1,1)**2)/1**2 # via standard deviation"
   ]
  },
  {
   "cell_type": "code",
   "execution_count": 40,
   "id": "f32f637b",
   "metadata": {},
   "outputs": [],
   "source": [
    "dh=10**-3\n",
    "def heatCapacityExactFiniteDiff(hbarOmega,kT):\n",
    "    return (avgE(hbarOmega,kT+dh/2)-avgE(hbarOmega,kT-dh/2))/dh\n",
    "def heatCapacityExactStdDev(hbarOmega,kT):\n",
    "    return(avgE2(hbarOmega,kT)-avgE(hbarOmega,kT)**2)/kT**2"
   ]
  },
  {
   "cell_type": "code",
   "execution_count": 41,
   "id": "8ece7243",
   "metadata": {},
   "outputs": [],
   "source": [
    "def runMCv2(kT,hbarOmega,nEquil,nDataCol):\n",
    "    # Initialize local variables\n",
    "    v=0\n",
    "    ESamples=[]\n",
    "    E2Samples=[]\n",
    "    \n",
    "    # Equilibriation\n",
    "    for i in range(nEquil):\n",
    "        v = MCstep(kT,hbarOmega,v)\n",
    "        \n",
    "    # Data collection\n",
    "    for i in range(nDataCol):\n",
    "        v = MCstep(kT,hbarOmega,v)\n",
    "        if i%100 == 0:\n",
    "            ESamples.append(energyVibDiatomic(hbarOmega,v))\n",
    "            E2Samples.append((energyVibDiatomic(hbarOmega,v))**2)\n",
    "    \n",
    "    return (ESamples, E2Samples)\n",
    "\n",
    "kT, hbarOmega = 1,1\n",
    "ESamples, E2Samples = runMCv2(kT,hbarOmega,100,50000)"
   ]
  },
  {
   "cell_type": "code",
   "execution_count": 42,
   "id": "a9382beb",
   "metadata": {},
   "outputs": [],
   "source": [
    "def heatCapacityFromSamples(ESamples, E2Samples, kT):\n",
    "    return (np.mean(np.array(E2Samples))-np.mean(np.array(ESamples))**2)/kT**2"
   ]
  },
  {
   "cell_type": "code",
   "execution_count": 43,
   "id": "e2dfc589",
   "metadata": {},
   "outputs": [],
   "source": [
    "def heatCapacityFromSamplesVariance(ESamples, kT):\n",
    "    return np.var(np.array(ESamples))/kT**2"
   ]
  },
  {
   "cell_type": "code",
   "execution_count": 44,
   "id": "349a56ec",
   "metadata": {
    "scrolled": false
   },
   "outputs": [
    {
     "name": "stdout",
     "output_type": "stream",
     "text": [
      "0.9206735942077924\n",
      "0.764556\n",
      "0.7645559999999998\n"
     ]
    }
   ],
   "source": [
    "print(heatCapacityExactStdDev(hbarOmega,kT))\n",
    "print(heatCapacityFromSamples(ESamples,E2Samples,kT))\n",
    "print(heatCapacityFromSamplesVariance(ESamples,kT))"
   ]
  },
  {
   "cell_type": "code",
   "execution_count": null,
   "id": "292c4670",
   "metadata": {},
   "outputs": [],
   "source": []
  }
 ],
 "metadata": {
  "kernelspec": {
   "display_name": "Python 3 (ipykernel)",
   "language": "python",
   "name": "python3"
  },
  "language_info": {
   "codemirror_mode": {
    "name": "ipython",
    "version": 3
   },
   "file_extension": ".py",
   "mimetype": "text/x-python",
   "name": "python",
   "nbconvert_exporter": "python",
   "pygments_lexer": "ipython3",
   "version": "3.8.12"
  }
 },
 "nbformat": 4,
 "nbformat_minor": 5
}
